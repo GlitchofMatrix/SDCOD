{
 "cells": [
  {
   "cell_type": "code",
   "execution_count": 1,
   "id": "488d422d",
   "metadata": {
    "_cell_guid": "b1076dfc-b9ad-4769-8c92-a6c4dae69d19",
    "_uuid": "8f2839f25d086af736a60e9eeb907d3b93b6e0e5",
    "execution": {
     "iopub.execute_input": "2022-07-31T15:53:13.419728Z",
     "iopub.status.busy": "2022-07-31T15:53:13.419266Z",
     "iopub.status.idle": "2022-07-31T15:53:21.034584Z",
     "shell.execute_reply": "2022-07-31T15:53:21.033609Z"
    },
    "id": "dvwD1ARaSg33",
    "papermill": {
     "duration": 7.631313,
     "end_time": "2022-07-31T15:53:21.037240",
     "exception": false,
     "start_time": "2022-07-31T15:53:13.405927",
     "status": "completed"
    },
    "tags": []
   },
   "outputs": [],
   "source": [
    "import pandas as pd\n",
    "import numpy as np\n",
    "import matplotlib.pyplot as plt\n",
    "import tifffile as tif\n",
    "import os\n",
    "from PIL import Image\n",
    "import cv2\n",
    "from tqdm import tqdm\n",
    "import pickle\n",
    "\n",
    "from sklearn.model_selection import StratifiedShuffleSplit\n",
    "import albumentations as albu\n",
    "from skimage.transform import resize\n",
    "from pylab import rcParams\n",
    "from sklearn.metrics import accuracy_score, confusion_matrix, classification_report\n",
    "from tensorflow.keras.callbacks import Callback, EarlyStopping, ReduceLROnPlateau\n",
    "import tensorflow as tf\n",
    "from tensorflow import keras\n",
    "from tensorflow.keras.models import Sequential, load_model\n",
    "from tensorflow.keras.layers import Dropout, Dense, GlobalAveragePooling2D\n",
    "from tensorflow.keras.optimizers import Adam\n",
    "\n",
    "%matplotlib inline\n"
   ]
  },
  {
   "cell_type": "code",
   "execution_count": 2,
   "id": "2b10199b",
   "metadata": {
    "execution": {
     "iopub.execute_input": "2022-07-31T15:53:21.061243Z",
     "iopub.status.busy": "2022-07-31T15:53:21.060596Z",
     "iopub.status.idle": "2022-07-31T15:53:21.066104Z",
     "shell.execute_reply": "2022-07-31T15:53:21.065171Z"
    },
    "papermill": {
     "duration": 0.019674,
     "end_time": "2022-07-31T15:53:21.068154",
     "exception": false,
     "start_time": "2022-07-31T15:53:21.048480",
     "status": "completed"
    },
    "tags": []
   },
   "outputs": [],
   "source": [
    "height = 224\n",
    "width = 224\n",
    "channels = 3\n",
    "input_shape = (height, width, channels)\n",
    "INP_SHAPE = (height, width)\n",
    "n_classes = 2\n",
    "epochs = 15\n",
    "batch_size = 64"
   ]
  },
  {
   "cell_type": "code",
   "execution_count": 3,
   "id": "4608f83b",
   "metadata": {
    "execution": {
     "iopub.execute_input": "2022-07-31T15:53:21.091350Z",
     "iopub.status.busy": "2022-07-31T15:53:21.090501Z",
     "iopub.status.idle": "2022-07-31T15:53:21.099193Z",
     "shell.execute_reply": "2022-07-31T15:53:21.098207Z"
    },
    "id": "tvKrCPcuSg3-",
    "papermill": {
     "duration": 0.022044,
     "end_time": "2022-07-31T15:53:21.101308",
     "exception": false,
     "start_time": "2022-07-31T15:53:21.079264",
     "status": "completed"
    },
    "tags": []
   },
   "outputs": [],
   "source": [
    "def find_path(file,working =True):\n",
    "    import sys\n",
    "  \n",
    "  \n",
    "#     sys.stdout.write(\"Options for 'working aruguments [True,org,stripai]'\")\n",
    "#     sys.stdout.flush()\n",
    "    print(\"Options for 'working aruguments [True,org,stripai]'\",flush=False)\n",
    "\n",
    "    if working ==True:\n",
    "        for i in os.walk('../test/'):\n",
    "            for j in i[2]:\n",
    "                if j ==file:\n",
    "                    return os.path.join(i[0],j)\n",
    "    elif working =='org':\n",
    "        for i in os.walk('../input/mayo-clinic-strip-ai'):\n",
    "            for j in i[2]:\n",
    "                if j ==file:\n",
    "                    return os.path.join(i[0],j)\n",
    "    elif working =='stripai':\n",
    "        for i in os.walk('../input/stripai/archive'):\n",
    "            for j in i[2]:\n",
    "                if j ==file:\n",
    "                    return os.path.join(i[0],j)"
   ]
  },
  {
   "cell_type": "code",
   "execution_count": 4,
   "id": "cbfed2f7",
   "metadata": {
    "execution": {
     "iopub.execute_input": "2022-07-31T15:53:21.124013Z",
     "iopub.status.busy": "2022-07-31T15:53:21.123272Z",
     "iopub.status.idle": "2022-07-31T15:53:21.128520Z",
     "shell.execute_reply": "2022-07-31T15:53:21.127685Z"
    },
    "id": "bxEIgOcYSg3-",
    "papermill": {
     "duration": 0.018851,
     "end_time": "2022-07-31T15:53:21.130564",
     "exception": false,
     "start_time": "2022-07-31T15:53:21.111713",
     "status": "completed"
    },
    "tags": []
   },
   "outputs": [],
   "source": [
    "def resize_img(img, shape):\n",
    "    return cv2.resize(img, (shape[1], shape[0]), interpolation=cv2.INTER_CUBIC)"
   ]
  },
  {
   "cell_type": "code",
   "execution_count": 5,
   "id": "d2e4ba6f",
   "metadata": {
    "execution": {
     "iopub.execute_input": "2022-07-31T15:53:21.153178Z",
     "iopub.status.busy": "2022-07-31T15:53:21.152553Z",
     "iopub.status.idle": "2022-07-31T15:53:21.158161Z",
     "shell.execute_reply": "2022-07-31T15:53:21.157342Z"
    },
    "papermill": {
     "duration": 0.018986,
     "end_time": "2022-07-31T15:53:21.160418",
     "exception": false,
     "start_time": "2022-07-31T15:53:21.141432",
     "status": "completed"
    },
    "tags": []
   },
   "outputs": [],
   "source": [
    "height = 224\n",
    "width = 224\n",
    "channels = 3\n",
    "input_shape = (height, width, channels)\n",
    "INP_SHAPE = (height, width)\n",
    "n_classes = 2\n",
    "epochs = 15\n",
    "batch_size = 64"
   ]
  },
  {
   "cell_type": "code",
   "execution_count": 6,
   "id": "bb8f9ecb",
   "metadata": {
    "execution": {
     "iopub.execute_input": "2022-07-31T15:53:21.183635Z",
     "iopub.status.busy": "2022-07-31T15:53:21.183056Z",
     "iopub.status.idle": "2022-07-31T15:53:21.199189Z",
     "shell.execute_reply": "2022-07-31T15:53:21.198232Z"
    },
    "papermill": {
     "duration": 0.030998,
     "end_time": "2022-07-31T15:53:21.201758",
     "exception": false,
     "start_time": "2022-07-31T15:53:21.170760",
     "status": "completed"
    },
    "tags": []
   },
   "outputs": [],
   "source": [
    "class DataGenerator(keras.utils.Sequence):\n",
    "    def __init__(self, images, labels=None, mode='fit', batch_size=batch_size, dim=(height, width), channels=channels, n_classes=n_classes, shuffle=True, augment=False):\n",
    "        \n",
    "        #initializing the configuration of the generator\n",
    "        self.images = images\n",
    "        self.labels = labels\n",
    "        self.mode = mode\n",
    "        self.batch_size = batch_size\n",
    "        self.dim = dim\n",
    "        self.channels = channels\n",
    "        self.n_classes = n_classes\n",
    "        self.shuffle = shuffle\n",
    "        self.augment = augment\n",
    "        self.on_epoch_end()\n",
    "   \n",
    "    #method to be called after every epoch\n",
    "    def on_epoch_end(self):\n",
    "        self.indexes = np.arange(self.images.shape[0])\n",
    "        if self.shuffle == True:\n",
    "            np.random.shuffle(self.indexes)\n",
    "    \n",
    "    #return numbers of steps in an epoch using samples & batch size\n",
    "    def __len__(self):\n",
    "        return int(np.floor(len(self.images) / self.batch_size))\n",
    "    \n",
    "    #this method is called with the batch number as an argument to #obtain a given batch of data\n",
    "    def __getitem__(self, index):\n",
    "        #generate one batch of data\n",
    "        #generate indexes of batch\n",
    "        batch_indexes = self.indexes[index * self.batch_size:(index+1) * self.batch_size]\n",
    "        \n",
    "        #generate mini-batch of X\n",
    "        X = np.empty((self.batch_size, *self.dim, self.channels))\n",
    "        for i, ID in enumerate(batch_indexes):\n",
    "            #generate pre-processed image\n",
    "            img = self.images[ID]\n",
    "            #image rescaling\n",
    "            img = img.astype(np.float32)/255.\n",
    "            #resizing as per new dimensions\n",
    "#             img = resize_img(img, self.dim)\n",
    "            X[i] = img\n",
    "            \n",
    "        #generate mini-batch of y\n",
    "        if self.mode == 'fit':\n",
    "            y = self.labels[batch_indexes]\n",
    "            \n",
    "            #augmentation on the training dataset\n",
    "            if self.augment == True:\n",
    "                X = self.__augment_batch(X)\n",
    "            return X, y\n",
    "        \n",
    "        elif self.mode == 'predict':\n",
    "            return X\n",
    "        \n",
    "        else:\n",
    "            raise AttributeError(\"The mode should be set to either 'fit' or 'predict'.\")\n",
    "            \n",
    "    #augmentation for one image\n",
    "    def __random_transform(self, img):\n",
    "        composition = albu.Compose([albu.HorizontalFlip(p=0.5),\n",
    "                                   albu.VerticalFlip(p=0.5),\n",
    "                                   albu.GridDistortion(p=0.2),\n",
    "                                   albu.ElasticTransform(p=0.2)])\n",
    "        return composition(image=img)['image']\n",
    "    \n",
    "    #augmentation for batch of images\n",
    "    def __augment_batch(self, img_batch):\n",
    "        for i in range(img_batch.shape[0]):\n",
    "            img_batch[i] = self.__random_transform(img_batch[i])\n",
    "        return img_batch"
   ]
  },
  {
   "cell_type": "code",
   "execution_count": 7,
   "id": "aa3394fc",
   "metadata": {
    "execution": {
     "iopub.execute_input": "2022-07-31T15:53:21.225064Z",
     "iopub.status.busy": "2022-07-31T15:53:21.224523Z",
     "iopub.status.idle": "2022-07-31T15:53:21.233350Z",
     "shell.execute_reply": "2022-07-31T15:53:21.232544Z"
    },
    "papermill": {
     "duration": 0.023031,
     "end_time": "2022-07-31T15:53:21.235454",
     "exception": false,
     "start_time": "2022-07-31T15:53:21.212423",
     "status": "completed"
    },
    "tags": []
   },
   "outputs": [],
   "source": [
    "def ImgDataset(df,tif_ = False):\n",
    "    train = 'label' in df.columns\n",
    "    index = df.index\n",
    "    img = []\n",
    "    for image_id in tqdm(df['image_id']):\n",
    "        if tif_:\n",
    "#             print(find_path(image_id + \".tif\",'org'))\n",
    "            image = tif.imread(find_path(image_id + \".tif\",'org'))\n",
    "        else:\n",
    "#             print(find_path(image_id + \".jpg\",'stripai'))\n",
    "\n",
    "            image = cv2.imread(find_path(image_id + \".jpg\",'stripai'))\n",
    "\n",
    "        label = 0\n",
    "        \n",
    "        image = resize_img(image, INP_SHAPE)\n",
    "            \n",
    "        if(train):\n",
    "            label = df.iloc[index].label.replace({\"CE\" : 0, \"LAA\": 1}).tolist()\n",
    "        patient_id = df.iloc[index].patient_id\n",
    "        img.append(image)\n",
    "    return np.asarray(img), np.asarray(label), np.asarray(patient_id.tolist())"
   ]
  },
  {
   "cell_type": "code",
   "execution_count": 8,
   "id": "df6f71a3",
   "metadata": {
    "execution": {
     "iopub.execute_input": "2022-07-31T15:53:21.257785Z",
     "iopub.status.busy": "2022-07-31T15:53:21.257498Z",
     "iopub.status.idle": "2022-07-31T15:53:21.278019Z",
     "shell.execute_reply": "2022-07-31T15:53:21.277115Z"
    },
    "id": "olVO2QYoSg37",
    "papermill": {
     "duration": 0.034401,
     "end_time": "2022-07-31T15:53:21.280537",
     "exception": false,
     "start_time": "2022-07-31T15:53:21.246136",
     "status": "completed"
    },
    "tags": []
   },
   "outputs": [
    {
     "name": "stdout",
     "output_type": "stream",
     "text": [
      "Options for 'working aruguments [True,org,stripai]'\n"
     ]
    }
   ],
   "source": [
    "train_df = pd.read_csv(find_path(\"train.csv\",'org'))\n",
    "test_df =  pd.read_csv(\"../input/mayo-clinic-strip-ai/test.csv\")"
   ]
  },
  {
   "cell_type": "code",
   "execution_count": 9,
   "id": "00f44daa",
   "metadata": {
    "execution": {
     "iopub.execute_input": "2022-07-31T15:53:21.303973Z",
     "iopub.status.busy": "2022-07-31T15:53:21.303327Z",
     "iopub.status.idle": "2022-07-31T15:54:01.153075Z",
     "shell.execute_reply": "2022-07-31T15:54:01.152132Z"
    },
    "papermill": {
     "duration": 39.875762,
     "end_time": "2022-07-31T15:54:01.167394",
     "exception": false,
     "start_time": "2022-07-31T15:53:21.291632",
     "status": "completed"
    },
    "tags": []
   },
   "outputs": [
    {
     "name": "stderr",
     "output_type": "stream",
     "text": [
      "  0%|          | 0/4 [00:00<?, ?it/s]"
     ]
    },
    {
     "name": "stdout",
     "output_type": "stream",
     "text": [
      "1312937514\n",
      "\n"
     ]
    },
    {
     "name": "stderr",
     "output_type": "stream",
     "text": [
      " 25%|██▌       | 1/4 [00:00<00:00,  5.74it/s]"
     ]
    },
    {
     "name": "stdout",
     "output_type": "stream",
     "text": [
      "109571430\n"
     ]
    },
    {
     "name": "stderr",
     "output_type": "stream",
     "text": [
      " 50%|█████     | 2/4 [00:04<00:05,  2.64s/it]"
     ]
    },
    {
     "name": "stdout",
     "output_type": "stream",
     "text": [
      "True 008e5c_0\n",
      "351760030\n"
     ]
    },
    {
     "name": "stderr",
     "output_type": "stream",
     "text": [
      " 75%|███████▌  | 3/4 [00:17<00:07,  7.17s/it]"
     ]
    },
    {
     "name": "stdout",
     "output_type": "stream",
     "text": [
      "True 00c058_0\n",
      "679166312\n"
     ]
    },
    {
     "name": "stderr",
     "output_type": "stream",
     "text": [
      "100%|██████████| 4/4 [00:39<00:00,  9.96s/it]"
     ]
    },
    {
     "name": "stdout",
     "output_type": "stream",
     "text": [
      "True 01adc5_0\n"
     ]
    },
    {
     "name": "stderr",
     "output_type": "stream",
     "text": [
      "\n"
     ]
    }
   ],
   "source": [
    "ImgSize= height\n",
    "dirs = \"../input/mayo-clinic-strip-ai/test/\"\n",
    "os.makedirs(\"../test/\",exist_ok = True)\n",
    "for i in tqdm(range(test_df.shape[0])):\n",
    "    img_id = test_df.iloc[i].image_id\n",
    "    try:\n",
    "        sz = os.path.getsize(os.path.join(dirs,img_id + \".tif\"))\n",
    "    except:\n",
    "        sz = 1000000000\n",
    "    print(sz)\n",
    "    Try = \"\"\n",
    "    if(sz > 8e8):\n",
    "        img = np.zeros((ImgSize,ImgSize,3), np.uint8)\n",
    "    else:\n",
    "        try:\n",
    "            img = cv2.resize(tif.imread(os.path.join(dirs,img_id + \".tif\")), (ImgSize, ImgSize))/255.\n",
    "            Try = \"True \"+f\"{img_id}\"\n",
    "        except:\n",
    "            img = np.zeros((ImgSize,ImgSize,3), np.uint8)\n",
    "            Try = \"False\"\n",
    "            \n",
    "    print(Try)\n",
    "    cv2.imwrite(f\"../test/{img_id}.jpg\", img)\n",
    "    del img\n",
    "    import gc\n",
    "    gc.collect()"
   ]
  },
  {
   "cell_type": "code",
   "execution_count": 10,
   "id": "407f600b",
   "metadata": {
    "execution": {
     "iopub.execute_input": "2022-07-31T15:54:01.191625Z",
     "iopub.status.busy": "2022-07-31T15:54:01.191277Z",
     "iopub.status.idle": "2022-07-31T15:54:11.114012Z",
     "shell.execute_reply": "2022-07-31T15:54:11.112331Z"
    },
    "id": "cG5VpxDBSg4A",
    "outputId": "21d206d9-9286-4152-8062-02f611664e3c",
    "papermill": {
     "duration": 9.937355,
     "end_time": "2022-07-31T15:54:11.116137",
     "exception": false,
     "start_time": "2022-07-31T15:54:01.178782",
     "status": "completed"
    },
    "scrolled": true,
    "tags": []
   },
   "outputs": [
    {
     "name": "stderr",
     "output_type": "stream",
     "text": [
      "  1%|          | 5/754 [00:00<00:30, 24.93it/s]"
     ]
    },
    {
     "name": "stdout",
     "output_type": "stream",
     "text": [
      "Options for 'working aruguments [True,org,stripai]'\n",
      "Options for 'working aruguments [True,org,stripai]'\n",
      "Options for 'working aruguments [True,org,stripai]'\n",
      "Options for 'working aruguments [True,org,stripai]'\n",
      "Options for 'working aruguments [True,org,stripai]'\n"
     ]
    },
    {
     "name": "stderr",
     "output_type": "stream",
     "text": [
      "  2%|▏         | 12/754 [00:00<00:18, 41.03it/s]"
     ]
    },
    {
     "name": "stdout",
     "output_type": "stream",
     "text": [
      "Options for 'working aruguments [True,org,stripai]'\n",
      "Options for 'working aruguments [True,org,stripai]'\n",
      "Options for 'working aruguments [True,org,stripai]'\n",
      "Options for 'working aruguments [True,org,stripai]'\n",
      "Options for 'working aruguments [True,org,stripai]'\n",
      "Options for 'working aruguments [True,org,stripai]'\n",
      "Options for 'working aruguments [True,org,stripai]'\n",
      "Options for 'working aruguments [True,org,stripai]'\n",
      "Options for 'working aruguments [True,org,stripai]'\n",
      "Options for 'working aruguments [True,org,stripai]'\n",
      "Options for 'working aruguments [True,org,stripai]'\n",
      "Options for 'working aruguments [True,org,stripai]'\n",
      "Options for 'working aruguments [True,org,stripai]'\n"
     ]
    },
    {
     "name": "stderr",
     "output_type": "stream",
     "text": [
      "  3%|▎         | 24/754 [00:00<00:14, 50.51it/s]"
     ]
    },
    {
     "name": "stdout",
     "output_type": "stream",
     "text": [
      "Options for 'working aruguments [True,org,stripai]'\n",
      "Options for 'working aruguments [True,org,stripai]'\n",
      "Options for 'working aruguments [True,org,stripai]'\n",
      "Options for 'working aruguments [True,org,stripai]'\n",
      "Options for 'working aruguments [True,org,stripai]'\n",
      "Options for 'working aruguments [True,org,stripai]'\n",
      "Options for 'working aruguments [True,org,stripai]'\n",
      "Options for 'working aruguments [True,org,stripai]'\n",
      "Options for 'working aruguments [True,org,stripai]'\n",
      "Options for 'working aruguments [True,org,stripai]'\n",
      "Options for 'working aruguments [True,org,stripai]'\n",
      "Options for 'working aruguments [True,org,stripai]'\n",
      "Options for 'working aruguments [True,org,stripai]'\n"
     ]
    },
    {
     "name": "stderr",
     "output_type": "stream",
     "text": [
      "  5%|▌         | 38/754 [00:00<00:12, 59.21it/s]"
     ]
    },
    {
     "name": "stdout",
     "output_type": "stream",
     "text": [
      "Options for 'working aruguments [True,org,stripai]'\n",
      "Options for 'working aruguments [True,org,stripai]'\n",
      "Options for 'working aruguments [True,org,stripai]'\n",
      "Options for 'working aruguments [True,org,stripai]'\n",
      "Options for 'working aruguments [True,org,stripai]'\n",
      "Options for 'working aruguments [True,org,stripai]'\n",
      "Options for 'working aruguments [True,org,stripai]'\n",
      "Options for 'working aruguments [True,org,stripai]'\n",
      "Options for 'working aruguments [True,org,stripai]'\n",
      "Options for 'working aruguments [True,org,stripai]'\n",
      "Options for 'working aruguments [True,org,stripai]'\n",
      "Options for 'working aruguments [True,org,stripai]'\n",
      "Options for 'working aruguments [True,org,stripai]'\n",
      "Options for 'working aruguments [True,org,stripai]'\n",
      "Options for 'working aruguments [True,org,stripai]'\n"
     ]
    },
    {
     "name": "stderr",
     "output_type": "stream",
     "text": [
      "  7%|▋         | 55/754 [00:00<00:10, 69.02it/s]"
     ]
    },
    {
     "name": "stdout",
     "output_type": "stream",
     "text": [
      "Options for 'working aruguments [True,org,stripai]'\n",
      "Options for 'working aruguments [True,org,stripai]'\n",
      "Options for 'working aruguments [True,org,stripai]'\n",
      "Options for 'working aruguments [True,org,stripai]'\n",
      "Options for 'working aruguments [True,org,stripai]'\n",
      "Options for 'working aruguments [True,org,stripai]'\n",
      "Options for 'working aruguments [True,org,stripai]'\n",
      "Options for 'working aruguments [True,org,stripai]'\n",
      "Options for 'working aruguments [True,org,stripai]'\n",
      "Options for 'working aruguments [True,org,stripai]'\n",
      "Options for 'working aruguments [True,org,stripai]'\n",
      "Options for 'working aruguments [True,org,stripai]'\n",
      "Options for 'working aruguments [True,org,stripai]'\n",
      "Options for 'working aruguments [True,org,stripai]'\n",
      "Options for 'working aruguments [True,org,stripai]'\n",
      "Options for 'working aruguments [True,org,stripai]'\n"
     ]
    },
    {
     "name": "stderr",
     "output_type": "stream",
     "text": [
      "  9%|▉         | 71/754 [00:01<00:09, 74.17it/s]"
     ]
    },
    {
     "name": "stdout",
     "output_type": "stream",
     "text": [
      "Options for 'working aruguments [True,org,stripai]'\n",
      "Options for 'working aruguments [True,org,stripai]'\n",
      "Options for 'working aruguments [True,org,stripai]'\n",
      "Options for 'working aruguments [True,org,stripai]'\n",
      "Options for 'working aruguments [True,org,stripai]'\n",
      "Options for 'working aruguments [True,org,stripai]'\n",
      "Options for 'working aruguments [True,org,stripai]'\n",
      "Options for 'working aruguments [True,org,stripai]'\n",
      "Options for 'working aruguments [True,org,stripai]'\n",
      "Options for 'working aruguments [True,org,stripai]'\n",
      "Options for 'working aruguments [True,org,stripai]'\n",
      "Options for 'working aruguments [True,org,stripai]'\n",
      "Options for 'working aruguments [True,org,stripai]'\n",
      "Options for 'working aruguments [True,org,stripai]'\n",
      "Options for 'working aruguments [True,org,stripai]'\n",
      "Options for 'working aruguments [True,org,stripai]'\n",
      "Options for 'working aruguments [True,org,stripai]'\n"
     ]
    },
    {
     "name": "stderr",
     "output_type": "stream",
     "text": [
      " 12%|█▏        | 90/754 [00:01<00:08, 79.82it/s]"
     ]
    },
    {
     "name": "stdout",
     "output_type": "stream",
     "text": [
      "Options for 'working aruguments [True,org,stripai]'\n",
      "Options for 'working aruguments [True,org,stripai]'\n",
      "Options for 'working aruguments [True,org,stripai]'\n",
      "Options for 'working aruguments [True,org,stripai]'\n",
      "Options for 'working aruguments [True,org,stripai]'\n",
      "Options for 'working aruguments [True,org,stripai]'\n",
      "Options for 'working aruguments [True,org,stripai]'\n",
      "Options for 'working aruguments [True,org,stripai]'\n",
      "Options for 'working aruguments [True,org,stripai]'\n",
      "Options for 'working aruguments [True,org,stripai]'\n",
      "Options for 'working aruguments [True,org,stripai]'\n",
      "Options for 'working aruguments [True,org,stripai]'\n",
      "Options for 'working aruguments [True,org,stripai]'\n",
      "Options for 'working aruguments [True,org,stripai]'\n",
      "Options for 'working aruguments [True,org,stripai]'\n",
      "Options for 'working aruguments [True,org,stripai]'\n",
      "Options for 'working aruguments [True,org,stripai]'\n"
     ]
    },
    {
     "name": "stderr",
     "output_type": "stream",
     "text": [
      " 14%|█▍        | 107/754 [00:01<00:08, 77.43it/s]"
     ]
    },
    {
     "name": "stdout",
     "output_type": "stream",
     "text": [
      "Options for 'working aruguments [True,org,stripai]'\n",
      "Options for 'working aruguments [True,org,stripai]'\n",
      "Options for 'working aruguments [True,org,stripai]'\n",
      "Options for 'working aruguments [True,org,stripai]'\n",
      "Options for 'working aruguments [True,org,stripai]'\n",
      "Options for 'working aruguments [True,org,stripai]'\n",
      "Options for 'working aruguments [True,org,stripai]'\n",
      "Options for 'working aruguments [True,org,stripai]'\n",
      "Options for 'working aruguments [True,org,stripai]'\n",
      "Options for 'working aruguments [True,org,stripai]'\n",
      "Options for 'working aruguments [True,org,stripai]'\n",
      "Options for 'working aruguments [True,org,stripai]'\n",
      "Options for 'working aruguments [True,org,stripai]'\n",
      "Options for 'working aruguments [True,org,stripai]'\n",
      "Options for 'working aruguments [True,org,stripai]'\n",
      "Options for 'working aruguments [True,org,stripai]'\n"
     ]
    },
    {
     "name": "stderr",
     "output_type": "stream",
     "text": [
      " 16%|█▋        | 124/754 [00:01<00:08, 78.74it/s]"
     ]
    },
    {
     "name": "stdout",
     "output_type": "stream",
     "text": [
      "Options for 'working aruguments [True,org,stripai]'\n",
      "Options for 'working aruguments [True,org,stripai]'\n",
      "Options for 'working aruguments [True,org,stripai]'\n",
      "Options for 'working aruguments [True,org,stripai]'\n",
      "Options for 'working aruguments [True,org,stripai]'\n",
      "Options for 'working aruguments [True,org,stripai]'\n",
      "Options for 'working aruguments [True,org,stripai]'\n",
      "Options for 'working aruguments [True,org,stripai]'\n",
      "Options for 'working aruguments [True,org,stripai]'\n",
      "Options for 'working aruguments [True,org,stripai]'\n",
      "Options for 'working aruguments [True,org,stripai]'\n",
      "Options for 'working aruguments [True,org,stripai]'\n",
      "Options for 'working aruguments [True,org,stripai]'\n",
      "Options for 'working aruguments [True,org,stripai]'\n",
      "Options for 'working aruguments [True,org,stripai]'\n",
      "Options for 'working aruguments [True,org,stripai]'\n",
      "Options for 'working aruguments [True,org,stripai]'\n"
     ]
    },
    {
     "name": "stderr",
     "output_type": "stream",
     "text": [
      " 19%|█▉        | 142/754 [00:02<00:07, 79.11it/s]"
     ]
    },
    {
     "name": "stdout",
     "output_type": "stream",
     "text": [
      "Options for 'working aruguments [True,org,stripai]'\n",
      "Options for 'working aruguments [True,org,stripai]'\n",
      "Options for 'working aruguments [True,org,stripai]'\n",
      "Options for 'working aruguments [True,org,stripai]'\n",
      "Options for 'working aruguments [True,org,stripai]'\n",
      "Options for 'working aruguments [True,org,stripai]'\n",
      "Options for 'working aruguments [True,org,stripai]'\n",
      "Options for 'working aruguments [True,org,stripai]'\n",
      "Options for 'working aruguments [True,org,stripai]'\n",
      "Options for 'working aruguments [True,org,stripai]'\n",
      "Options for 'working aruguments [True,org,stripai]'\n",
      "Options for 'working aruguments [True,org,stripai]'\n",
      "Options for 'working aruguments [True,org,stripai]'\n",
      "Options for 'working aruguments [True,org,stripai]'\n",
      "Options for 'working aruguments [True,org,stripai]'\n",
      "Options for 'working aruguments [True,org,stripai]'\n"
     ]
    },
    {
     "name": "stderr",
     "output_type": "stream",
     "text": [
      " 21%|██        | 158/754 [00:02<00:07, 76.05it/s]"
     ]
    },
    {
     "name": "stdout",
     "output_type": "stream",
     "text": [
      "Options for 'working aruguments [True,org,stripai]'\n",
      "Options for 'working aruguments [True,org,stripai]'\n",
      "Options for 'working aruguments [True,org,stripai]'\n",
      "Options for 'working aruguments [True,org,stripai]'\n",
      "Options for 'working aruguments [True,org,stripai]'\n",
      "Options for 'working aruguments [True,org,stripai]'\n",
      "Options for 'working aruguments [True,org,stripai]'\n",
      "Options for 'working aruguments [True,org,stripai]'\n",
      "Options for 'working aruguments [True,org,stripai]'\n",
      "Options for 'working aruguments [True,org,stripai]'\n",
      "Options for 'working aruguments [True,org,stripai]'\n",
      "Options for 'working aruguments [True,org,stripai]'\n",
      "Options for 'working aruguments [True,org,stripai]'\n",
      "Options for 'working aruguments [True,org,stripai]'\n",
      "Options for 'working aruguments [True,org,stripai]'\n"
     ]
    },
    {
     "name": "stderr",
     "output_type": "stream",
     "text": [
      " 23%|██▎       | 175/754 [00:02<00:07, 79.01it/s]"
     ]
    },
    {
     "name": "stdout",
     "output_type": "stream",
     "text": [
      "Options for 'working aruguments [True,org,stripai]'\n",
      "Options for 'working aruguments [True,org,stripai]'\n",
      "Options for 'working aruguments [True,org,stripai]'\n",
      "Options for 'working aruguments [True,org,stripai]'\n",
      "Options for 'working aruguments [True,org,stripai]'\n",
      "Options for 'working aruguments [True,org,stripai]'\n",
      "Options for 'working aruguments [True,org,stripai]'\n",
      "Options for 'working aruguments [True,org,stripai]'\n",
      "Options for 'working aruguments [True,org,stripai]'\n",
      "Options for 'working aruguments [True,org,stripai]'\n",
      "Options for 'working aruguments [True,org,stripai]'\n",
      "Options for 'working aruguments [True,org,stripai]'\n",
      "Options for 'working aruguments [True,org,stripai]'\n",
      "Options for 'working aruguments [True,org,stripai]'\n",
      "Options for 'working aruguments [True,org,stripai]'\n",
      "Options for 'working aruguments [True,org,stripai]'\n",
      "Options for 'working aruguments [True,org,stripai]'\n"
     ]
    },
    {
     "name": "stderr",
     "output_type": "stream",
     "text": [
      " 26%|██▌       | 193/754 [00:02<00:07, 79.13it/s]"
     ]
    },
    {
     "name": "stdout",
     "output_type": "stream",
     "text": [
      "Options for 'working aruguments [True,org,stripai]'\n",
      "Options for 'working aruguments [True,org,stripai]'\n",
      "Options for 'working aruguments [True,org,stripai]'\n",
      "Options for 'working aruguments [True,org,stripai]'\n",
      "Options for 'working aruguments [True,org,stripai]'\n",
      "Options for 'working aruguments [True,org,stripai]'\n",
      "Options for 'working aruguments [True,org,stripai]'\n",
      "Options for 'working aruguments [True,org,stripai]'\n",
      "Options for 'working aruguments [True,org,stripai]'\n",
      "Options for 'working aruguments [True,org,stripai]'\n",
      "Options for 'working aruguments [True,org,stripai]'\n",
      "Options for 'working aruguments [True,org,stripai]'\n",
      "Options for 'working aruguments [True,org,stripai]'\n",
      "Options for 'working aruguments [True,org,stripai]'\n",
      "Options for 'working aruguments [True,org,stripai]'\n",
      "Options for 'working aruguments [True,org,stripai]'\n",
      "Options for 'working aruguments [True,org,stripai]'\n"
     ]
    },
    {
     "name": "stderr",
     "output_type": "stream",
     "text": [
      " 28%|██▊       | 211/754 [00:02<00:06, 82.80it/s]"
     ]
    },
    {
     "name": "stdout",
     "output_type": "stream",
     "text": [
      "Options for 'working aruguments [True,org,stripai]'\n",
      "Options for 'working aruguments [True,org,stripai]'\n",
      "Options for 'working aruguments [True,org,stripai]'\n",
      "Options for 'working aruguments [True,org,stripai]'\n",
      "Options for 'working aruguments [True,org,stripai]'\n",
      "Options for 'working aruguments [True,org,stripai]'\n",
      "Options for 'working aruguments [True,org,stripai]'\n",
      "Options for 'working aruguments [True,org,stripai]'\n",
      "Options for 'working aruguments [True,org,stripai]'\n",
      "Options for 'working aruguments [True,org,stripai]'\n",
      "Options for 'working aruguments [True,org,stripai]'\n",
      "Options for 'working aruguments [True,org,stripai]'\n",
      "Options for 'working aruguments [True,org,stripai]'\n",
      "Options for 'working aruguments [True,org,stripai]'\n",
      "Options for 'working aruguments [True,org,stripai]'\n",
      "Options for 'working aruguments [True,org,stripai]'\n",
      "Options for 'working aruguments [True,org,stripai]'\n",
      "Options for 'working aruguments [True,org,stripai]'\n"
     ]
    },
    {
     "name": "stderr",
     "output_type": "stream",
     "text": [
      " 30%|███       | 229/754 [00:03<00:06, 83.18it/s]"
     ]
    },
    {
     "name": "stdout",
     "output_type": "stream",
     "text": [
      "Options for 'working aruguments [True,org,stripai]'\n",
      "Options for 'working aruguments [True,org,stripai]'\n",
      "Options for 'working aruguments [True,org,stripai]'\n",
      "Options for 'working aruguments [True,org,stripai]'\n",
      "Options for 'working aruguments [True,org,stripai]'\n",
      "Options for 'working aruguments [True,org,stripai]'\n",
      "Options for 'working aruguments [True,org,stripai]'\n",
      "Options for 'working aruguments [True,org,stripai]'\n",
      "Options for 'working aruguments [True,org,stripai]'\n",
      "Options for 'working aruguments [True,org,stripai]'\n",
      "Options for 'working aruguments [True,org,stripai]'\n",
      "Options for 'working aruguments [True,org,stripai]'\n",
      "Options for 'working aruguments [True,org,stripai]'\n",
      "Options for 'working aruguments [True,org,stripai]'\n",
      "Options for 'working aruguments [True,org,stripai]'\n",
      "Options for 'working aruguments [True,org,stripai]'\n",
      "Options for 'working aruguments [True,org,stripai]'\n",
      "Options for 'working aruguments [True,org,stripai]'\n"
     ]
    },
    {
     "name": "stderr",
     "output_type": "stream",
     "text": [
      " 33%|███▎      | 247/754 [00:03<00:06, 84.14it/s]"
     ]
    },
    {
     "name": "stdout",
     "output_type": "stream",
     "text": [
      "Options for 'working aruguments [True,org,stripai]'\n",
      "Options for 'working aruguments [True,org,stripai]'\n",
      "Options for 'working aruguments [True,org,stripai]'\n",
      "Options for 'working aruguments [True,org,stripai]'\n",
      "Options for 'working aruguments [True,org,stripai]'\n",
      "Options for 'working aruguments [True,org,stripai]'\n",
      "Options for 'working aruguments [True,org,stripai]'\n",
      "Options for 'working aruguments [True,org,stripai]'\n",
      "Options for 'working aruguments [True,org,stripai]'\n",
      "Options for 'working aruguments [True,org,stripai]'\n",
      "Options for 'working aruguments [True,org,stripai]'\n",
      "Options for 'working aruguments [True,org,stripai]'\n",
      "Options for 'working aruguments [True,org,stripai]'\n",
      "Options for 'working aruguments [True,org,stripai]'\n",
      "Options for 'working aruguments [True,org,stripai]'\n",
      "Options for 'working aruguments [True,org,stripai]'\n",
      "Options for 'working aruguments [True,org,stripai]'\n"
     ]
    },
    {
     "name": "stderr",
     "output_type": "stream",
     "text": [
      " 34%|███▍      | 256/754 [00:03<00:05, 85.72it/s]"
     ]
    },
    {
     "name": "stdout",
     "output_type": "stream",
     "text": [
      "Options for 'working aruguments [True,org,stripai]'\n",
      "Options for 'working aruguments [True,org,stripai]'\n",
      "Options for 'working aruguments [True,org,stripai]'\n",
      "Options for 'working aruguments [True,org,stripai]'\n",
      "Options for 'working aruguments [True,org,stripai]'\n",
      "Options for 'working aruguments [True,org,stripai]'\n",
      "Options for 'working aruguments [True,org,stripai]'\n",
      "Options for 'working aruguments [True,org,stripai]'\n",
      "Options for 'working aruguments [True,org,stripai]'\n",
      "Options for 'working aruguments [True,org,stripai]'\n",
      "Options for 'working aruguments [True,org,stripai]'\n",
      "Options for 'working aruguments [True,org,stripai]'\n",
      "Options for 'working aruguments [True,org,stripai]'\n",
      "Options for 'working aruguments [True,org,stripai]'\n",
      "Options for 'working aruguments [True,org,stripai]'\n",
      "Options for 'working aruguments [True,org,stripai]'\n",
      "Options for 'working aruguments [True,org,stripai]'\n",
      "Options for 'working aruguments [True,org,stripai]'\n"
     ]
    },
    {
     "name": "stderr",
     "output_type": "stream",
     "text": [
      " 36%|███▋      | 275/754 [00:03<00:05, 88.52it/s]"
     ]
    },
    {
     "name": "stdout",
     "output_type": "stream",
     "text": [
      "Options for 'working aruguments [True,org,stripai]'\n",
      "Options for 'working aruguments [True,org,stripai]'\n",
      "Options for 'working aruguments [True,org,stripai]'\n",
      "Options for 'working aruguments [True,org,stripai]'\n",
      "Options for 'working aruguments [True,org,stripai]'\n",
      "Options for 'working aruguments [True,org,stripai]'\n",
      "Options for 'working aruguments [True,org,stripai]'\n",
      "Options for 'working aruguments [True,org,stripai]'\n",
      "Options for 'working aruguments [True,org,stripai]'\n",
      "Options for 'working aruguments [True,org,stripai]'\n",
      "Options for 'working aruguments [True,org,stripai]'\n",
      "Options for 'working aruguments [True,org,stripai]'\n",
      "Options for 'working aruguments [True,org,stripai]'\n",
      "Options for 'working aruguments [True,org,stripai]'\n",
      "Options for 'working aruguments [True,org,stripai]'\n",
      "Options for 'working aruguments [True,org,stripai]'\n",
      "Options for 'working aruguments [True,org,stripai]'\n",
      "Options for 'working aruguments [True,org,stripai]'\n"
     ]
    },
    {
     "name": "stderr",
     "output_type": "stream",
     "text": [
      " 39%|███▉      | 293/754 [00:03<00:05, 82.67it/s]"
     ]
    },
    {
     "name": "stdout",
     "output_type": "stream",
     "text": [
      "Options for 'working aruguments [True,org,stripai]'\n",
      "Options for 'working aruguments [True,org,stripai]'\n",
      "Options for 'working aruguments [True,org,stripai]'\n",
      "Options for 'working aruguments [True,org,stripai]'\n",
      "Options for 'working aruguments [True,org,stripai]'\n",
      "Options for 'working aruguments [True,org,stripai]'\n",
      "Options for 'working aruguments [True,org,stripai]'\n",
      "Options for 'working aruguments [True,org,stripai]'\n",
      "Options for 'working aruguments [True,org,stripai]'\n",
      "Options for 'working aruguments [True,org,stripai]'\n",
      "Options for 'working aruguments [True,org,stripai]'\n",
      "Options for 'working aruguments [True,org,stripai]'\n",
      "Options for 'working aruguments [True,org,stripai]'\n",
      "Options for 'working aruguments [True,org,stripai]'\n",
      "Options for 'working aruguments [True,org,stripai]'\n",
      "Options for 'working aruguments [True,org,stripai]'\n"
     ]
    },
    {
     "name": "stderr",
     "output_type": "stream",
     "text": [
      " 41%|████      | 311/754 [00:04<00:05, 78.49it/s]"
     ]
    },
    {
     "name": "stdout",
     "output_type": "stream",
     "text": [
      "Options for 'working aruguments [True,org,stripai]'\n",
      "Options for 'working aruguments [True,org,stripai]'\n",
      "Options for 'working aruguments [True,org,stripai]'\n",
      "Options for 'working aruguments [True,org,stripai]'\n",
      "Options for 'working aruguments [True,org,stripai]'\n",
      "Options for 'working aruguments [True,org,stripai]'\n",
      "Options for 'working aruguments [True,org,stripai]'\n",
      "Options for 'working aruguments [True,org,stripai]'\n",
      "Options for 'working aruguments [True,org,stripai]'\n",
      "Options for 'working aruguments [True,org,stripai]'\n",
      "Options for 'working aruguments [True,org,stripai]'\n",
      "Options for 'working aruguments [True,org,stripai]'\n",
      "Options for 'working aruguments [True,org,stripai]'\n",
      "Options for 'working aruguments [True,org,stripai]'\n",
      "Options for 'working aruguments [True,org,stripai]'\n",
      "Options for 'working aruguments [True,org,stripai]'\n"
     ]
    },
    {
     "name": "stderr",
     "output_type": "stream",
     "text": [
      " 43%|████▎     | 327/754 [00:04<00:05, 78.63it/s]"
     ]
    },
    {
     "name": "stdout",
     "output_type": "stream",
     "text": [
      "Options for 'working aruguments [True,org,stripai]'\n",
      "Options for 'working aruguments [True,org,stripai]'\n",
      "Options for 'working aruguments [True,org,stripai]'\n",
      "Options for 'working aruguments [True,org,stripai]'\n",
      "Options for 'working aruguments [True,org,stripai]'\n",
      "Options for 'working aruguments [True,org,stripai]'\n",
      "Options for 'working aruguments [True,org,stripai]'\n",
      "Options for 'working aruguments [True,org,stripai]'\n",
      "Options for 'working aruguments [True,org,stripai]'\n",
      "Options for 'working aruguments [True,org,stripai]'\n",
      "Options for 'working aruguments [True,org,stripai]'\n",
      "Options for 'working aruguments [True,org,stripai]'\n",
      "Options for 'working aruguments [True,org,stripai]'\n",
      "Options for 'working aruguments [True,org,stripai]'\n",
      "Options for 'working aruguments [True,org,stripai]'\n",
      "Options for 'working aruguments [True,org,stripai]'\n"
     ]
    },
    {
     "name": "stderr",
     "output_type": "stream",
     "text": [
      " 46%|████▌     | 345/754 [00:04<00:05, 81.27it/s]"
     ]
    },
    {
     "name": "stdout",
     "output_type": "stream",
     "text": [
      "Options for 'working aruguments [True,org,stripai]'\n",
      "Options for 'working aruguments [True,org,stripai]'\n",
      "Options for 'working aruguments [True,org,stripai]'\n",
      "Options for 'working aruguments [True,org,stripai]'\n",
      "Options for 'working aruguments [True,org,stripai]'\n",
      "Options for 'working aruguments [True,org,stripai]'\n",
      "Options for 'working aruguments [True,org,stripai]'\n",
      "Options for 'working aruguments [True,org,stripai]'\n",
      "Options for 'working aruguments [True,org,stripai]'\n",
      "Options for 'working aruguments [True,org,stripai]'\n",
      "Options for 'working aruguments [True,org,stripai]'\n",
      "Options for 'working aruguments [True,org,stripai]'\n",
      "Options for 'working aruguments [True,org,stripai]'\n",
      "Options for 'working aruguments [True,org,stripai]'\n",
      "Options for 'working aruguments [True,org,stripai]'\n",
      "Options for 'working aruguments [True,org,stripai]'\n",
      "Options for 'working aruguments [True,org,stripai]'\n",
      "Options for 'working aruguments [True,org,stripai]'\n"
     ]
    },
    {
     "name": "stderr",
     "output_type": "stream",
     "text": [
      " 48%|████▊     | 363/754 [00:04<00:04, 81.06it/s]"
     ]
    },
    {
     "name": "stdout",
     "output_type": "stream",
     "text": [
      "Options for 'working aruguments [True,org,stripai]'\n",
      "Options for 'working aruguments [True,org,stripai]'\n",
      "Options for 'working aruguments [True,org,stripai]'\n",
      "Options for 'working aruguments [True,org,stripai]'\n",
      "Options for 'working aruguments [True,org,stripai]'\n",
      "Options for 'working aruguments [True,org,stripai]'\n",
      "Options for 'working aruguments [True,org,stripai]'\n",
      "Options for 'working aruguments [True,org,stripai]'\n",
      "Options for 'working aruguments [True,org,stripai]'\n",
      "Options for 'working aruguments [True,org,stripai]'\n",
      "Options for 'working aruguments [True,org,stripai]'\n",
      "Options for 'working aruguments [True,org,stripai]'\n",
      "Options for 'working aruguments [True,org,stripai]'\n",
      "Options for 'working aruguments [True,org,stripai]'\n",
      "Options for 'working aruguments [True,org,stripai]'\n",
      "Options for 'working aruguments [True,org,stripai]'\n",
      "Options for 'working aruguments [True,org,stripai]'\n"
     ]
    },
    {
     "name": "stderr",
     "output_type": "stream",
     "text": [
      " 50%|█████     | 380/754 [00:05<00:05, 74.31it/s]"
     ]
    },
    {
     "name": "stdout",
     "output_type": "stream",
     "text": [
      "Options for 'working aruguments [True,org,stripai]'\n",
      "Options for 'working aruguments [True,org,stripai]'\n",
      "Options for 'working aruguments [True,org,stripai]'\n",
      "Options for 'working aruguments [True,org,stripai]'\n",
      "Options for 'working aruguments [True,org,stripai]'\n",
      "Options for 'working aruguments [True,org,stripai]'\n",
      "Options for 'working aruguments [True,org,stripai]'\n",
      "Options for 'working aruguments [True,org,stripai]'\n",
      "Options for 'working aruguments [True,org,stripai]'\n",
      "Options for 'working aruguments [True,org,stripai]'\n",
      "Options for 'working aruguments [True,org,stripai]'\n",
      "Options for 'working aruguments [True,org,stripai]'\n",
      "Options for 'working aruguments [True,org,stripai]'\n",
      "Options for 'working aruguments [True,org,stripai]'\n",
      "Options for 'working aruguments [True,org,stripai]'\n"
     ]
    },
    {
     "name": "stderr",
     "output_type": "stream",
     "text": [
      " 51%|█████▏    | 388/754 [00:05<00:05, 73.15it/s]"
     ]
    },
    {
     "name": "stdout",
     "output_type": "stream",
     "text": [
      "Options for 'working aruguments [True,org,stripai]'\n",
      "Options for 'working aruguments [True,org,stripai]'\n",
      "Options for 'working aruguments [True,org,stripai]'\n",
      "Options for 'working aruguments [True,org,stripai]'\n",
      "Options for 'working aruguments [True,org,stripai]'\n",
      "Options for 'working aruguments [True,org,stripai]'\n",
      "Options for 'working aruguments [True,org,stripai]'\n",
      "Options for 'working aruguments [True,org,stripai]'\n",
      "Options for 'working aruguments [True,org,stripai]'\n",
      "Options for 'working aruguments [True,org,stripai]'\n",
      "Options for 'working aruguments [True,org,stripai]'\n",
      "Options for 'working aruguments [True,org,stripai]'\n",
      "Options for 'working aruguments [True,org,stripai]'\n",
      "Options for 'working aruguments [True,org,stripai]'\n",
      "Options for 'working aruguments [True,org,stripai]'\n",
      "Options for 'working aruguments [True,org,stripai]'\n"
     ]
    },
    {
     "name": "stderr",
     "output_type": "stream",
     "text": [
      " 54%|█████▍    | 406/754 [00:05<00:04, 79.02it/s]"
     ]
    },
    {
     "name": "stdout",
     "output_type": "stream",
     "text": [
      "Options for 'working aruguments [True,org,stripai]'\n",
      "Options for 'working aruguments [True,org,stripai]'\n",
      "Options for 'working aruguments [True,org,stripai]'\n",
      "Options for 'working aruguments [True,org,stripai]'\n",
      "Options for 'working aruguments [True,org,stripai]'\n",
      "Options for 'working aruguments [True,org,stripai]'\n",
      "Options for 'working aruguments [True,org,stripai]'\n",
      "Options for 'working aruguments [True,org,stripai]'\n",
      "Options for 'working aruguments [True,org,stripai]'\n",
      "Options for 'working aruguments [True,org,stripai]'\n",
      "Options for 'working aruguments [True,org,stripai]'\n",
      "Options for 'working aruguments [True,org,stripai]'\n",
      "Options for 'working aruguments [True,org,stripai]'\n",
      "Options for 'working aruguments [True,org,stripai]'\n",
      "Options for 'working aruguments [True,org,stripai]'\n",
      "Options for 'working aruguments [True,org,stripai]'\n",
      "Options for 'working aruguments [True,org,stripai]'\n",
      "Options for 'working aruguments [True,org,stripai]'\n"
     ]
    },
    {
     "name": "stderr",
     "output_type": "stream",
     "text": [
      " 56%|█████▌    | 424/754 [00:05<00:04, 78.00it/s]"
     ]
    },
    {
     "name": "stdout",
     "output_type": "stream",
     "text": [
      "Options for 'working aruguments [True,org,stripai]'\n",
      "Options for 'working aruguments [True,org,stripai]'\n",
      "Options for 'working aruguments [True,org,stripai]'\n",
      "Options for 'working aruguments [True,org,stripai]'\n",
      "Options for 'working aruguments [True,org,stripai]'\n",
      "Options for 'working aruguments [True,org,stripai]'\n",
      "Options for 'working aruguments [True,org,stripai]'\n",
      "Options for 'working aruguments [True,org,stripai]'\n",
      "Options for 'working aruguments [True,org,stripai]'\n",
      "Options for 'working aruguments [True,org,stripai]'\n",
      "Options for 'working aruguments [True,org,stripai]'\n",
      "Options for 'working aruguments [True,org,stripai]'\n",
      "Options for 'working aruguments [True,org,stripai]'\n",
      "Options for 'working aruguments [True,org,stripai]'\n",
      "Options for 'working aruguments [True,org,stripai]'\n"
     ]
    },
    {
     "name": "stderr",
     "output_type": "stream",
     "text": [
      " 58%|█████▊    | 441/754 [00:05<00:03, 78.46it/s]"
     ]
    },
    {
     "name": "stdout",
     "output_type": "stream",
     "text": [
      "Options for 'working aruguments [True,org,stripai]'\n",
      "Options for 'working aruguments [True,org,stripai]'\n",
      "Options for 'working aruguments [True,org,stripai]'\n",
      "Options for 'working aruguments [True,org,stripai]'\n",
      "Options for 'working aruguments [True,org,stripai]'\n",
      "Options for 'working aruguments [True,org,stripai]'\n",
      "Options for 'working aruguments [True,org,stripai]'\n",
      "Options for 'working aruguments [True,org,stripai]'\n",
      "Options for 'working aruguments [True,org,stripai]'\n",
      "Options for 'working aruguments [True,org,stripai]'\n",
      "Options for 'working aruguments [True,org,stripai]'\n",
      "Options for 'working aruguments [True,org,stripai]'\n",
      "Options for 'working aruguments [True,org,stripai]'\n",
      "Options for 'working aruguments [True,org,stripai]'\n",
      "Options for 'working aruguments [True,org,stripai]'\n",
      "Options for 'working aruguments [True,org,stripai]'\n",
      "Options for 'working aruguments [True,org,stripai]'\n"
     ]
    },
    {
     "name": "stderr",
     "output_type": "stream",
     "text": [
      " 61%|██████    | 458/754 [00:06<00:03, 77.96it/s]"
     ]
    },
    {
     "name": "stdout",
     "output_type": "stream",
     "text": [
      "Options for 'working aruguments [True,org,stripai]'\n",
      "Options for 'working aruguments [True,org,stripai]'\n",
      "Options for 'working aruguments [True,org,stripai]'\n",
      "Options for 'working aruguments [True,org,stripai]'\n",
      "Options for 'working aruguments [True,org,stripai]'\n",
      "Options for 'working aruguments [True,org,stripai]'\n",
      "Options for 'working aruguments [True,org,stripai]'\n",
      "Options for 'working aruguments [True,org,stripai]'\n",
      "Options for 'working aruguments [True,org,stripai]'\n",
      "Options for 'working aruguments [True,org,stripai]'\n",
      "Options for 'working aruguments [True,org,stripai]'\n",
      "Options for 'working aruguments [True,org,stripai]'\n",
      "Options for 'working aruguments [True,org,stripai]'\n",
      "Options for 'working aruguments [True,org,stripai]'\n",
      "Options for 'working aruguments [True,org,stripai]'\n",
      "Options for 'working aruguments [True,org,stripai]'\n",
      "Options for 'working aruguments [True,org,stripai]'\n"
     ]
    },
    {
     "name": "stderr",
     "output_type": "stream",
     "text": [
      " 63%|██████▎   | 476/754 [00:06<00:03, 78.63it/s]"
     ]
    },
    {
     "name": "stdout",
     "output_type": "stream",
     "text": [
      "Options for 'working aruguments [True,org,stripai]'\n",
      "Options for 'working aruguments [True,org,stripai]'\n",
      "Options for 'working aruguments [True,org,stripai]'\n",
      "Options for 'working aruguments [True,org,stripai]'\n",
      "Options for 'working aruguments [True,org,stripai]'\n",
      "Options for 'working aruguments [True,org,stripai]'\n",
      "Options for 'working aruguments [True,org,stripai]'\n",
      "Options for 'working aruguments [True,org,stripai]'\n",
      "Options for 'working aruguments [True,org,stripai]'\n",
      "Options for 'working aruguments [True,org,stripai]'\n",
      "Options for 'working aruguments [True,org,stripai]'\n",
      "Options for 'working aruguments [True,org,stripai]'\n",
      "Options for 'working aruguments [True,org,stripai]'\n",
      "Options for 'working aruguments [True,org,stripai]'\n",
      "Options for 'working aruguments [True,org,stripai]'\n",
      "Options for 'working aruguments [True,org,stripai]'\n"
     ]
    },
    {
     "name": "stderr",
     "output_type": "stream",
     "text": [
      " 66%|██████▌   | 494/754 [00:06<00:03, 80.21it/s]"
     ]
    },
    {
     "name": "stdout",
     "output_type": "stream",
     "text": [
      "Options for 'working aruguments [True,org,stripai]'\n",
      "Options for 'working aruguments [True,org,stripai]'\n",
      "Options for 'working aruguments [True,org,stripai]'\n",
      "Options for 'working aruguments [True,org,stripai]'\n",
      "Options for 'working aruguments [True,org,stripai]'\n",
      "Options for 'working aruguments [True,org,stripai]'\n",
      "Options for 'working aruguments [True,org,stripai]'\n",
      "Options for 'working aruguments [True,org,stripai]'\n",
      "Options for 'working aruguments [True,org,stripai]'\n",
      "Options for 'working aruguments [True,org,stripai]'\n",
      "Options for 'working aruguments [True,org,stripai]'\n",
      "Options for 'working aruguments [True,org,stripai]'\n",
      "Options for 'working aruguments [True,org,stripai]'\n",
      "Options for 'working aruguments [True,org,stripai]'\n",
      "Options for 'working aruguments [True,org,stripai]'\n",
      "Options for 'working aruguments [True,org,stripai]'\n",
      "Options for 'working aruguments [True,org,stripai]'\n"
     ]
    },
    {
     "name": "stderr",
     "output_type": "stream",
     "text": [
      " 68%|██████▊   | 513/754 [00:06<00:02, 82.97it/s]"
     ]
    },
    {
     "name": "stdout",
     "output_type": "stream",
     "text": [
      "Options for 'working aruguments [True,org,stripai]'\n",
      "Options for 'working aruguments [True,org,stripai]'\n",
      "Options for 'working aruguments [True,org,stripai]'\n",
      "Options for 'working aruguments [True,org,stripai]'\n",
      "Options for 'working aruguments [True,org,stripai]'\n",
      "Options for 'working aruguments [True,org,stripai]'\n",
      "Options for 'working aruguments [True,org,stripai]'\n",
      "Options for 'working aruguments [True,org,stripai]'\n",
      "Options for 'working aruguments [True,org,stripai]'\n",
      "Options for 'working aruguments [True,org,stripai]'\n",
      "Options for 'working aruguments [True,org,stripai]'\n",
      "Options for 'working aruguments [True,org,stripai]'\n",
      "Options for 'working aruguments [True,org,stripai]'\n",
      "Options for 'working aruguments [True,org,stripai]'\n",
      "Options for 'working aruguments [True,org,stripai]'\n",
      "Options for 'working aruguments [True,org,stripai]'\n",
      "Options for 'working aruguments [True,org,stripai]'\n"
     ]
    },
    {
     "name": "stderr",
     "output_type": "stream",
     "text": [
      " 69%|██████▉   | 522/754 [00:06<00:02, 77.72it/s]"
     ]
    },
    {
     "name": "stdout",
     "output_type": "stream",
     "text": [
      "Options for 'working aruguments [True,org,stripai]'\n",
      "Options for 'working aruguments [True,org,stripai]'\n",
      "Options for 'working aruguments [True,org,stripai]'\n",
      "Options for 'working aruguments [True,org,stripai]'\n",
      "Options for 'working aruguments [True,org,stripai]'\n",
      "Options for 'working aruguments [True,org,stripai]'\n",
      "Options for 'working aruguments [True,org,stripai]'\n",
      "Options for 'working aruguments [True,org,stripai]'\n",
      "Options for 'working aruguments [True,org,stripai]'\n",
      "Options for 'working aruguments [True,org,stripai]'\n",
      "Options for 'working aruguments [True,org,stripai]'\n",
      "Options for 'working aruguments [True,org,stripai]'\n",
      "Options for 'working aruguments [True,org,stripai]'\n",
      "Options for 'working aruguments [True,org,stripai]'\n",
      "Options for 'working aruguments [True,org,stripai]'\n",
      "Options for 'working aruguments [True,org,stripai]'\n"
     ]
    },
    {
     "name": "stderr",
     "output_type": "stream",
     "text": [
      " 71%|███████▏  | 539/754 [00:07<00:02, 80.01it/s]"
     ]
    },
    {
     "name": "stdout",
     "output_type": "stream",
     "text": [
      "Options for 'working aruguments [True,org,stripai]'\n",
      "Options for 'working aruguments [True,org,stripai]'\n",
      "Options for 'working aruguments [True,org,stripai]'\n",
      "Options for 'working aruguments [True,org,stripai]'\n",
      "Options for 'working aruguments [True,org,stripai]'\n",
      "Options for 'working aruguments [True,org,stripai]'\n",
      "Options for 'working aruguments [True,org,stripai]'\n",
      "Options for 'working aruguments [True,org,stripai]'\n",
      "Options for 'working aruguments [True,org,stripai]'\n",
      "Options for 'working aruguments [True,org,stripai]'\n",
      "Options for 'working aruguments [True,org,stripai]'\n",
      "Options for 'working aruguments [True,org,stripai]'\n",
      "Options for 'working aruguments [True,org,stripai]'\n",
      "Options for 'working aruguments [True,org,stripai]'\n",
      "Options for 'working aruguments [True,org,stripai]'\n",
      "Options for 'working aruguments [True,org,stripai]'\n",
      "Options for 'working aruguments [True,org,stripai]'\n"
     ]
    },
    {
     "name": "stderr",
     "output_type": "stream",
     "text": [
      " 74%|███████▍  | 557/754 [00:07<00:02, 80.24it/s]"
     ]
    },
    {
     "name": "stdout",
     "output_type": "stream",
     "text": [
      "Options for 'working aruguments [True,org,stripai]'\n",
      "Options for 'working aruguments [True,org,stripai]'\n",
      "Options for 'working aruguments [True,org,stripai]'\n",
      "Options for 'working aruguments [True,org,stripai]'\n",
      "Options for 'working aruguments [True,org,stripai]'\n",
      "Options for 'working aruguments [True,org,stripai]'\n",
      "Options for 'working aruguments [True,org,stripai]'\n",
      "Options for 'working aruguments [True,org,stripai]'\n",
      "Options for 'working aruguments [True,org,stripai]'\n",
      "Options for 'working aruguments [True,org,stripai]'\n",
      "Options for 'working aruguments [True,org,stripai]'\n",
      "Options for 'working aruguments [True,org,stripai]'\n",
      "Options for 'working aruguments [True,org,stripai]'\n",
      "Options for 'working aruguments [True,org,stripai]'\n",
      "Options for 'working aruguments [True,org,stripai]'\n",
      "Options for 'working aruguments [True,org,stripai]'\n",
      "Options for 'working aruguments [True,org,stripai]'\n"
     ]
    },
    {
     "name": "stderr",
     "output_type": "stream",
     "text": [
      " 76%|███████▋  | 575/754 [00:07<00:02, 77.30it/s]"
     ]
    },
    {
     "name": "stdout",
     "output_type": "stream",
     "text": [
      "Options for 'working aruguments [True,org,stripai]'\n",
      "Options for 'working aruguments [True,org,stripai]'\n",
      "Options for 'working aruguments [True,org,stripai]'\n",
      "Options for 'working aruguments [True,org,stripai]'\n",
      "Options for 'working aruguments [True,org,stripai]'\n",
      "Options for 'working aruguments [True,org,stripai]'\n",
      "Options for 'working aruguments [True,org,stripai]'\n",
      "Options for 'working aruguments [True,org,stripai]'\n",
      "Options for 'working aruguments [True,org,stripai]'\n",
      "Options for 'working aruguments [True,org,stripai]'\n",
      "Options for 'working aruguments [True,org,stripai]'\n",
      "Options for 'working aruguments [True,org,stripai]'\n",
      "Options for 'working aruguments [True,org,stripai]'\n",
      "Options for 'working aruguments [True,org,stripai]'\n"
     ]
    },
    {
     "name": "stderr",
     "output_type": "stream",
     "text": [
      " 77%|███████▋  | 583/754 [00:07<00:02, 70.45it/s]"
     ]
    },
    {
     "name": "stdout",
     "output_type": "stream",
     "text": [
      "Options for 'working aruguments [True,org,stripai]'\n",
      "Options for 'working aruguments [True,org,stripai]'\n",
      "Options for 'working aruguments [True,org,stripai]'\n",
      "Options for 'working aruguments [True,org,stripai]'\n",
      "Options for 'working aruguments [True,org,stripai]'\n",
      "Options for 'working aruguments [True,org,stripai]'\n",
      "Options for 'working aruguments [True,org,stripai]'\n",
      "Options for 'working aruguments [True,org,stripai]'\n",
      "Options for 'working aruguments [True,org,stripai]'\n",
      "Options for 'working aruguments [True,org,stripai]'\n",
      "Options for 'working aruguments [True,org,stripai]'\n",
      "Options for 'working aruguments [True,org,stripai]'\n"
     ]
    },
    {
     "name": "stderr",
     "output_type": "stream",
     "text": [
      " 79%|███████▉  | 598/754 [00:07<00:02, 64.13it/s]"
     ]
    },
    {
     "name": "stdout",
     "output_type": "stream",
     "text": [
      "Options for 'working aruguments [True,org,stripai]'\n",
      "Options for 'working aruguments [True,org,stripai]'\n",
      "Options for 'working aruguments [True,org,stripai]'\n",
      "Options for 'working aruguments [True,org,stripai]'\n",
      "Options for 'working aruguments [True,org,stripai]'\n",
      "Options for 'working aruguments [True,org,stripai]'\n",
      "Options for 'working aruguments [True,org,stripai]'\n",
      "Options for 'working aruguments [True,org,stripai]'\n",
      "Options for 'working aruguments [True,org,stripai]'\n",
      "Options for 'working aruguments [True,org,stripai]'\n",
      "Options for 'working aruguments [True,org,stripai]'\n",
      "Options for 'working aruguments [True,org,stripai]'\n"
     ]
    },
    {
     "name": "stderr",
     "output_type": "stream",
     "text": [
      " 81%|████████▏ | 614/754 [00:08<00:01, 70.08it/s]"
     ]
    },
    {
     "name": "stdout",
     "output_type": "stream",
     "text": [
      "Options for 'working aruguments [True,org,stripai]'\n",
      "Options for 'working aruguments [True,org,stripai]'\n",
      "Options for 'working aruguments [True,org,stripai]'\n",
      "Options for 'working aruguments [True,org,stripai]'\n",
      "Options for 'working aruguments [True,org,stripai]'\n",
      "Options for 'working aruguments [True,org,stripai]'\n",
      "Options for 'working aruguments [True,org,stripai]'\n",
      "Options for 'working aruguments [True,org,stripai]'\n",
      "Options for 'working aruguments [True,org,stripai]'\n",
      "Options for 'working aruguments [True,org,stripai]'\n",
      "Options for 'working aruguments [True,org,stripai]'\n",
      "Options for 'working aruguments [True,org,stripai]'\n",
      "Options for 'working aruguments [True,org,stripai]'\n",
      "Options for 'working aruguments [True,org,stripai]'\n",
      "Options for 'working aruguments [True,org,stripai]'\n",
      "Options for 'working aruguments [True,org,stripai]'\n",
      "Options for 'working aruguments [True,org,stripai]'\n"
     ]
    },
    {
     "name": "stderr",
     "output_type": "stream",
     "text": [
      " 84%|████████▎ | 630/754 [00:08<00:01, 70.43it/s]"
     ]
    },
    {
     "name": "stdout",
     "output_type": "stream",
     "text": [
      "Options for 'working aruguments [True,org,stripai]'\n",
      "Options for 'working aruguments [True,org,stripai]'\n",
      "Options for 'working aruguments [True,org,stripai]'\n",
      "Options for 'working aruguments [True,org,stripai]'\n",
      "Options for 'working aruguments [True,org,stripai]'\n",
      "Options for 'working aruguments [True,org,stripai]'\n",
      "Options for 'working aruguments [True,org,stripai]'\n",
      "Options for 'working aruguments [True,org,stripai]'\n",
      "Options for 'working aruguments [True,org,stripai]'\n",
      "Options for 'working aruguments [True,org,stripai]'\n",
      "Options for 'working aruguments [True,org,stripai]'\n",
      "Options for 'working aruguments [True,org,stripai]'\n",
      "Options for 'working aruguments [True,org,stripai]'\n",
      "Options for 'working aruguments [True,org,stripai]'\n"
     ]
    },
    {
     "name": "stderr",
     "output_type": "stream",
     "text": [
      " 86%|████████▌ | 647/754 [00:08<00:01, 73.48it/s]"
     ]
    },
    {
     "name": "stdout",
     "output_type": "stream",
     "text": [
      "Options for 'working aruguments [True,org,stripai]'\n",
      "Options for 'working aruguments [True,org,stripai]'\n",
      "Options for 'working aruguments [True,org,stripai]'\n",
      "Options for 'working aruguments [True,org,stripai]'\n",
      "Options for 'working aruguments [True,org,stripai]'\n",
      "Options for 'working aruguments [True,org,stripai]'\n",
      "Options for 'working aruguments [True,org,stripai]'\n",
      "Options for 'working aruguments [True,org,stripai]'\n",
      "Options for 'working aruguments [True,org,stripai]'\n",
      "Options for 'working aruguments [True,org,stripai]'\n",
      "Options for 'working aruguments [True,org,stripai]'\n",
      "Options for 'working aruguments [True,org,stripai]'\n",
      "Options for 'working aruguments [True,org,stripai]'\n",
      "Options for 'working aruguments [True,org,stripai]'\n",
      "Options for 'working aruguments [True,org,stripai]'\n",
      "Options for 'working aruguments [True,org,stripai]'\n"
     ]
    },
    {
     "name": "stderr",
     "output_type": "stream",
     "text": [
      " 88%|████████▊ | 665/754 [00:08<00:01, 78.62it/s]"
     ]
    },
    {
     "name": "stdout",
     "output_type": "stream",
     "text": [
      "Options for 'working aruguments [True,org,stripai]'\n",
      "Options for 'working aruguments [True,org,stripai]'\n",
      "Options for 'working aruguments [True,org,stripai]'\n",
      "Options for 'working aruguments [True,org,stripai]'\n",
      "Options for 'working aruguments [True,org,stripai]'\n",
      "Options for 'working aruguments [True,org,stripai]'\n",
      "Options for 'working aruguments [True,org,stripai]'\n",
      "Options for 'working aruguments [True,org,stripai]'\n",
      "Options for 'working aruguments [True,org,stripai]'\n",
      "Options for 'working aruguments [True,org,stripai]'\n",
      "Options for 'working aruguments [True,org,stripai]'\n",
      "Options for 'working aruguments [True,org,stripai]'\n",
      "Options for 'working aruguments [True,org,stripai]'\n",
      "Options for 'working aruguments [True,org,stripai]'\n",
      "Options for 'working aruguments [True,org,stripai]'\n",
      "Options for 'working aruguments [True,org,stripai]'\n",
      "Options for 'working aruguments [True,org,stripai]'\n",
      "Options for 'working aruguments [True,org,stripai]'\n"
     ]
    },
    {
     "name": "stderr",
     "output_type": "stream",
     "text": [
      " 90%|█████████ | 682/754 [00:08<00:00, 78.21it/s]"
     ]
    },
    {
     "name": "stdout",
     "output_type": "stream",
     "text": [
      "Options for 'working aruguments [True,org,stripai]'\n",
      "Options for 'working aruguments [True,org,stripai]'\n",
      "Options for 'working aruguments [True,org,stripai]'\n",
      "Options for 'working aruguments [True,org,stripai]'\n",
      "Options for 'working aruguments [True,org,stripai]'\n",
      "Options for 'working aruguments [True,org,stripai]'\n",
      "Options for 'working aruguments [True,org,stripai]'\n",
      "Options for 'working aruguments [True,org,stripai]'\n",
      "Options for 'working aruguments [True,org,stripai]'\n",
      "Options for 'working aruguments [True,org,stripai]'\n",
      "Options for 'working aruguments [True,org,stripai]'\n",
      "Options for 'working aruguments [True,org,stripai]'\n",
      "Options for 'working aruguments [True,org,stripai]'\n",
      "Options for 'working aruguments [True,org,stripai]'\n",
      "Options for 'working aruguments [True,org,stripai]'\n",
      "Options for 'working aruguments [True,org,stripai]'\n",
      "Options for 'working aruguments [True,org,stripai]'\n"
     ]
    },
    {
     "name": "stderr",
     "output_type": "stream",
     "text": [
      " 93%|█████████▎| 699/754 [00:09<00:00, 81.30it/s]"
     ]
    },
    {
     "name": "stdout",
     "output_type": "stream",
     "text": [
      "Options for 'working aruguments [True,org,stripai]'\n",
      "Options for 'working aruguments [True,org,stripai]'\n",
      "Options for 'working aruguments [True,org,stripai]'\n",
      "Options for 'working aruguments [True,org,stripai]'\n",
      "Options for 'working aruguments [True,org,stripai]'\n",
      "Options for 'working aruguments [True,org,stripai]'\n",
      "Options for 'working aruguments [True,org,stripai]'\n",
      "Options for 'working aruguments [True,org,stripai]'\n",
      "Options for 'working aruguments [True,org,stripai]'\n",
      "Options for 'working aruguments [True,org,stripai]'\n",
      "Options for 'working aruguments [True,org,stripai]'\n",
      "Options for 'working aruguments [True,org,stripai]'\n",
      "Options for 'working aruguments [True,org,stripai]'\n",
      "Options for 'working aruguments [True,org,stripai]'\n",
      "Options for 'working aruguments [True,org,stripai]'\n",
      "Options for 'working aruguments [True,org,stripai]'\n",
      "Options for 'working aruguments [True,org,stripai]'\n"
     ]
    },
    {
     "name": "stderr",
     "output_type": "stream",
     "text": [
      " 95%|█████████▌| 717/754 [00:09<00:00, 80.28it/s]"
     ]
    },
    {
     "name": "stdout",
     "output_type": "stream",
     "text": [
      "Options for 'working aruguments [True,org,stripai]'\n",
      "Options for 'working aruguments [True,org,stripai]'\n",
      "Options for 'working aruguments [True,org,stripai]'\n",
      "Options for 'working aruguments [True,org,stripai]'\n",
      "Options for 'working aruguments [True,org,stripai]'\n",
      "Options for 'working aruguments [True,org,stripai]'\n",
      "Options for 'working aruguments [True,org,stripai]'\n",
      "Options for 'working aruguments [True,org,stripai]'\n",
      "Options for 'working aruguments [True,org,stripai]'\n",
      "Options for 'working aruguments [True,org,stripai]'\n",
      "Options for 'working aruguments [True,org,stripai]'\n",
      "Options for 'working aruguments [True,org,stripai]'\n",
      "Options for 'working aruguments [True,org,stripai]'\n",
      "Options for 'working aruguments [True,org,stripai]'\n",
      "Options for 'working aruguments [True,org,stripai]'\n",
      "Options for 'working aruguments [True,org,stripai]'\n"
     ]
    },
    {
     "name": "stderr",
     "output_type": "stream",
     "text": [
      " 96%|█████████▋| 726/754 [00:09<00:00, 80.62it/s]"
     ]
    },
    {
     "name": "stdout",
     "output_type": "stream",
     "text": [
      "Options for 'working aruguments [True,org,stripai]'\n",
      "Options for 'working aruguments [True,org,stripai]'\n",
      "Options for 'working aruguments [True,org,stripai]'\n",
      "Options for 'working aruguments [True,org,stripai]'\n",
      "Options for 'working aruguments [True,org,stripai]'\n",
      "Options for 'working aruguments [True,org,stripai]'\n",
      "Options for 'working aruguments [True,org,stripai]'\n",
      "Options for 'working aruguments [True,org,stripai]'\n",
      "Options for 'working aruguments [True,org,stripai]'\n",
      "Options for 'working aruguments [True,org,stripai]'\n",
      "Options for 'working aruguments [True,org,stripai]'\n",
      "Options for 'working aruguments [True,org,stripai]'\n",
      "Options for 'working aruguments [True,org,stripai]'\n",
      "Options for 'working aruguments [True,org,stripai]'\n",
      "Options for 'working aruguments [True,org,stripai]'\n",
      "Options for 'working aruguments [True,org,stripai]'\n",
      "Options for 'working aruguments [True,org,stripai]'\n"
     ]
    },
    {
     "name": "stderr",
     "output_type": "stream",
     "text": [
      " 99%|█████████▊| 744/754 [00:09<00:00, 80.13it/s]"
     ]
    },
    {
     "name": "stdout",
     "output_type": "stream",
     "text": [
      "Options for 'working aruguments [True,org,stripai]'\n",
      "Options for 'working aruguments [True,org,stripai]'\n",
      "Options for 'working aruguments [True,org,stripai]'\n",
      "Options for 'working aruguments [True,org,stripai]'\n",
      "Options for 'working aruguments [True,org,stripai]'\n",
      "Options for 'working aruguments [True,org,stripai]'\n",
      "Options for 'working aruguments [True,org,stripai]'\n",
      "Options for 'working aruguments [True,org,stripai]'\n",
      "Options for 'working aruguments [True,org,stripai]'\n",
      "Options for 'working aruguments [True,org,stripai]'\n",
      "Options for 'working aruguments [True,org,stripai]'\n",
      "Options for 'working aruguments [True,org,stripai]'\n",
      "Options for 'working aruguments [True,org,stripai]'\n",
      "Options for 'working aruguments [True,org,stripai]'\n",
      "Options for 'working aruguments [True,org,stripai]'\n",
      "Options for 'working aruguments [True,org,stripai]'\n",
      "Options for 'working aruguments [True,org,stripai]'\n"
     ]
    },
    {
     "name": "stderr",
     "output_type": "stream",
     "text": [
      "100%|██████████| 754/754 [00:09<00:00, 76.59it/s]\n"
     ]
    },
    {
     "name": "stdout",
     "output_type": "stream",
     "text": [
      "Options for 'working aruguments [True,org,stripai]'\n",
      "Options for 'working aruguments [True,org,stripai]'\n",
      "Options for 'working aruguments [True,org,stripai]'\n"
     ]
    },
    {
     "name": "stderr",
     "output_type": "stream",
     "text": [
      "100%|██████████| 4/4 [00:00<00:00, 162.32it/s]"
     ]
    },
    {
     "name": "stdout",
     "output_type": "stream",
     "text": [
      "Options for 'working aruguments [True,org,stripai]'\n",
      "Options for 'working aruguments [True,org,stripai]'\n",
      "Options for 'working aruguments [True,org,stripai]'\n",
      "Options for 'working aruguments [True,org,stripai]'\n"
     ]
    },
    {
     "name": "stderr",
     "output_type": "stream",
     "text": [
      "\n"
     ]
    }
   ],
   "source": [
    "xtrain,ytrain,pat_train = ImgDataset(train_df,False)\n",
    "test,_,pat_test = ImgDataset(test_df,False)\n"
   ]
  },
  {
   "cell_type": "code",
   "execution_count": 11,
   "id": "54f221c6",
   "metadata": {
    "execution": {
     "iopub.execute_input": "2022-07-31T15:54:11.164765Z",
     "iopub.status.busy": "2022-07-31T15:54:11.163071Z",
     "iopub.status.idle": "2022-07-31T15:54:11.174141Z",
     "shell.execute_reply": "2022-07-31T15:54:11.173272Z"
    },
    "papermill": {
     "duration": 0.036504,
     "end_time": "2022-07-31T15:54:11.176328",
     "exception": false,
     "start_time": "2022-07-31T15:54:11.139824",
     "status": "completed"
    },
    "tags": []
   },
   "outputs": [],
   "source": [
    "y_train_lb = pd.get_dummies(ytrain.astype(str)).values"
   ]
  },
  {
   "cell_type": "code",
   "execution_count": 12,
   "id": "6b462156",
   "metadata": {
    "execution": {
     "iopub.execute_input": "2022-07-31T15:54:11.222696Z",
     "iopub.status.busy": "2022-07-31T15:54:11.221904Z",
     "iopub.status.idle": "2022-07-31T15:54:11.226962Z",
     "shell.execute_reply": "2022-07-31T15:54:11.226019Z"
    },
    "papermill": {
     "duration": 0.030393,
     "end_time": "2022-07-31T15:54:11.229116",
     "exception": false,
     "start_time": "2022-07-31T15:54:11.198723",
     "status": "completed"
    },
    "tags": []
   },
   "outputs": [],
   "source": [
    "# with open('xtrain((224, 224, 3)).pkl', 'wb') as file1:\n",
    "      \n",
    "#     # A new file will be created\n",
    "#     pickle.dump(xtrain, file1)\n",
    "    \n",
    "# with open('ytrain((224, 224, 3)).pkl', 'wb') as file2:\n",
    "      \n",
    "#     # A new file will be created\n",
    "#     pickle.dump(ytrain, file2)\n",
    "# with open('pat_train((224, 224, 3)).pkl', 'wb') as file3:\n",
    "      \n",
    "#     # A new file will be created\n",
    "#     pickle.dump(pat_train, file3)\n",
    "    \n",
    "    \n",
    "# with open(\"./xtrain((224, 224, 3)).pkl\", 'rb') as f1:\n",
    "#     xtrain = pickle.load(f1)\n",
    "#     f1.close()\n",
    "# with open(\"./ytrain((224, 224, 3)).pkl\", 'rb') as f2:\n",
    "#     ytrain = pickle.load(f2)\n",
    "#     f2.close()\n",
    "    \n",
    "# with open(\"./pat_train((224, 224, 3)).pkl\", 'rb') as f3:\n",
    "#     pat_train = pickle.load(f3)\n",
    "#     f3.close()\n"
   ]
  },
  {
   "cell_type": "code",
   "execution_count": 13,
   "id": "24e29b7d",
   "metadata": {
    "execution": {
     "iopub.execute_input": "2022-07-31T15:54:11.275880Z",
     "iopub.status.busy": "2022-07-31T15:54:11.275116Z",
     "iopub.status.idle": "2022-07-31T15:54:11.283832Z",
     "shell.execute_reply": "2022-07-31T15:54:11.282826Z"
    },
    "papermill": {
     "duration": 0.034137,
     "end_time": "2022-07-31T15:54:11.285947",
     "exception": false,
     "start_time": "2022-07-31T15:54:11.251810",
     "status": "completed"
    },
    "tags": []
   },
   "outputs": [
    {
     "data": {
      "text/plain": [
       "((754, 224, 224, 3), (754,), (754,))"
      ]
     },
     "execution_count": 13,
     "metadata": {},
     "output_type": "execute_result"
    }
   ],
   "source": [
    "xtrain.shape,ytrain.shape,pat_train.shape"
   ]
  },
  {
   "cell_type": "code",
   "execution_count": 14,
   "id": "bf5fe19d",
   "metadata": {
    "execution": {
     "iopub.execute_input": "2022-07-31T15:54:11.332507Z",
     "iopub.status.busy": "2022-07-31T15:54:11.332227Z",
     "iopub.status.idle": "2022-07-31T15:54:11.342293Z",
     "shell.execute_reply": "2022-07-31T15:54:11.341195Z"
    },
    "papermill": {
     "duration": 0.035442,
     "end_time": "2022-07-31T15:54:11.344587",
     "exception": false,
     "start_time": "2022-07-31T15:54:11.309145",
     "status": "completed"
    },
    "tags": []
   },
   "outputs": [
    {
     "data": {
      "text/plain": [
       "{0: 0.7254641909814323, 1: 0.27453580901856767}"
      ]
     },
     "execution_count": 14,
     "metadata": {},
     "output_type": "execute_result"
    }
   ],
   "source": [
    "class_weights = {np.unique(ytrain,return_counts = True)[0][0]:(np.unique(ytrain,return_counts = True)[1][0].sum()/np.unique(ytrain,return_counts = True)[1].sum()),\n",
    "                 np.unique(ytrain,return_counts = True)[0][1]:(np.unique(ytrain,return_counts = True)[1][1]/np.unique(ytrain,return_counts = True)[1].sum())\n",
    "                }\n",
    "class_weights"
   ]
  },
  {
   "cell_type": "code",
   "execution_count": 15,
   "id": "717d9c71",
   "metadata": {
    "execution": {
     "iopub.execute_input": "2022-07-31T15:54:11.390936Z",
     "iopub.status.busy": "2022-07-31T15:54:11.390649Z",
     "iopub.status.idle": "2022-07-31T15:54:11.397169Z",
     "shell.execute_reply": "2022-07-31T15:54:11.396338Z"
    },
    "id": "GRdwFKM5b2jk",
    "papermill": {
     "duration": 0.03198,
     "end_time": "2022-07-31T15:54:11.399286",
     "exception": false,
     "start_time": "2022-07-31T15:54:11.367306",
     "status": "completed"
    },
    "tags": []
   },
   "outputs": [],
   "source": [
    "# def CNN():\n",
    "\n",
    "#   input_layer = Input(shape=(xtrain.shape[1],xtrain.shape[2],xtrain.shape[3]))\n",
    "#   #x = Embedding(max_features, embed_size, weights=[embedding_matrix], trainable=False)(inp)\n",
    "#   x = Conv2D(filters=32, kernel_size=3, padding='same', activation='relu')(input_layer) \n",
    "#   x = MaxPooling2D(pool_size=2)(x)\n",
    "#   x = Conv2D(filters=64, kernel_size=3, padding='same', activation='relu')(x)\n",
    "#   x = MaxPooling2D(pool_size=2)(x)\n",
    "#   x = Conv2D(filters=64, kernel_size=2, padding='same', activation='relu')(x)\n",
    "#   x = MaxPooling2D(pool_size=2)(x)\n",
    "#   # x = GRU(16)(x)\n",
    "#   # x = Dropout(0.3)(x)\n",
    "#   x = Flatten()(x)\n",
    "#   x = Dense(128, activation=\"relu\")(x)\n",
    "#   x = Dense(2,activation = 'sigmoid')(x)\n",
    "#   model = Model(inputs=input_layer, outputs=x)\n",
    "#   return model\n",
    "\n",
    "# def tl_vgg():\n",
    "#     inp = VGG16(include_top=False,input_shape = (INP_SHAPE+(3,)),weights=find_path(\"vgg16_weights_tf_dim_ordering_tf_kernels_notop.h5\"))\n",
    "    \n",
    "# #     inp = models.load_model(find_path('vgg16_weights_tf_dim_ordering_tf_kernels_notop.h5'))\n",
    "#     for layer in inp.layers:\n",
    "#         layer.trainable = False\n",
    "\n",
    "#     #flatten the last layer and add a fully connected layer as output\n",
    "#     hidden = Flatten()(inp.output)\n",
    "#     outputs = Dense(2, activation='sigmoid')(hidden)\n",
    "\n",
    "#     #create the model\n",
    "#     model = Model(inputs=inp.input, outputs=outputs)\n",
    "\n",
    "#     #check the model architecture\n",
    "#     model.summary()\n",
    "#     return model\n",
    "# def tl_IncepRes():\n",
    "#     inp = tf.keras.applications.InceptionResNetV2(include_top=False,input_shape = (INP_SHAPE+(3,)),weights=find_path(\"inception_resnet_v2_weights_tf_dim_ordering_tf_kernels_notop.h5\"))\n",
    "    \n",
    "# #     inp = models.load_model(find_path('vgg16_weights_tf_dim_ordering_tf_kernels_notop.h5'))\n",
    "#     for layer in inp.layers:\n",
    "#         layer.trainable = False\n",
    "\n",
    "#     #flatten the last layer and add a fully connected layer as output\n",
    "#     hidden = Flatten()(inp.output)\n",
    "#     outputs = Dense(2, activation='sigmoid')(hidden)\n",
    "\n",
    "#     #create the model\n",
    "#     model = Model(inputs=inp.input, outputs=outputs)\n",
    "\n",
    "#     #check the model architecture\n",
    "#     model.summary()\n",
    "#     return model\n"
   ]
  },
  {
   "cell_type": "code",
   "execution_count": 16,
   "id": "a367b6c0",
   "metadata": {
    "execution": {
     "iopub.execute_input": "2022-07-31T15:54:11.445153Z",
     "iopub.status.busy": "2022-07-31T15:54:11.444880Z",
     "iopub.status.idle": "2022-07-31T15:54:11.450928Z",
     "shell.execute_reply": "2022-07-31T15:54:11.449942Z"
    },
    "papermill": {
     "duration": 0.031492,
     "end_time": "2022-07-31T15:54:11.453367",
     "exception": false,
     "start_time": "2022-07-31T15:54:11.421875",
     "status": "completed"
    },
    "tags": []
   },
   "outputs": [],
   "source": [
    "\n",
    "def tl_efn():\n",
    "    efnb0 = tf.keras.applications.EfficientNetB0(weights='../input/stripai/efficientnetb0_notop.h5', include_top=False,input_shape=input_shape, classes=n_classes)\n",
    "\n",
    "    model = Sequential()\n",
    "    model.add(efnb0)\n",
    "    model.add(GlobalAveragePooling2D())\n",
    "    model.add(Dropout(0.5))\n",
    "    model.add(Dense(2, activation='sigmoid'))\n",
    "\n",
    "    model.summary()\n",
    "    return model"
   ]
  },
  {
   "cell_type": "code",
   "execution_count": 17,
   "id": "b834d13b",
   "metadata": {
    "execution": {
     "iopub.execute_input": "2022-07-31T15:54:11.499040Z",
     "iopub.status.busy": "2022-07-31T15:54:11.498546Z",
     "iopub.status.idle": "2022-07-31T15:54:11.503690Z",
     "shell.execute_reply": "2022-07-31T15:54:11.502870Z"
    },
    "papermill": {
     "duration": 0.030333,
     "end_time": "2022-07-31T15:54:11.505819",
     "exception": false,
     "start_time": "2022-07-31T15:54:11.475486",
     "status": "completed"
    },
    "tags": []
   },
   "outputs": [],
   "source": [
    "# tl_efn()"
   ]
  },
  {
   "cell_type": "code",
   "execution_count": 18,
   "id": "085a1069",
   "metadata": {
    "execution": {
     "iopub.execute_input": "2022-07-31T15:54:11.552449Z",
     "iopub.status.busy": "2022-07-31T15:54:11.551739Z",
     "iopub.status.idle": "2022-07-31T15:54:11.556477Z",
     "shell.execute_reply": "2022-07-31T15:54:11.555581Z"
    },
    "id": "8oezLId07pg9",
    "papermill": {
     "duration": 0.030086,
     "end_time": "2022-07-31T15:54:11.558600",
     "exception": false,
     "start_time": "2022-07-31T15:54:11.528514",
     "status": "completed"
    },
    "tags": []
   },
   "outputs": [],
   "source": [
    "from sklearn.model_selection import KFold\n",
    "splits =StratifiedShuffleSplit(n_splits=5, test_size=0.2, random_state=123)"
   ]
  },
  {
   "cell_type": "code",
   "execution_count": 19,
   "id": "dd0b0bc4",
   "metadata": {
    "execution": {
     "iopub.execute_input": "2022-07-31T15:54:11.606967Z",
     "iopub.status.busy": "2022-07-31T15:54:11.606605Z",
     "iopub.status.idle": "2022-07-31T15:54:11.795143Z",
     "shell.execute_reply": "2022-07-31T15:54:11.794006Z"
    },
    "papermill": {
     "duration": 0.216929,
     "end_time": "2022-07-31T15:54:11.797834",
     "exception": false,
     "start_time": "2022-07-31T15:54:11.580905",
     "status": "completed"
    },
    "tags": []
   },
   "outputs": [
    {
     "name": "stdout",
     "output_type": "stream",
     "text": [
      "Number of training samples:  603\n",
      "Number of validation samples:  151\n"
     ]
    }
   ],
   "source": [
    "\n",
    "for train_index, val_index in splits.split(xtrain, ytrain):\n",
    "    X_train_data, X_val_data = xtrain[train_index], xtrain[val_index]\n",
    "    y_train_data, y_val_data = y_train_lb[train_index], y_train_lb[val_index]\n",
    "\n",
    "print(\"Number of training samples: \", X_train_data.shape[0])\n",
    "print(\"Number of validation samples: \", X_val_data.shape[0])"
   ]
  },
  {
   "cell_type": "code",
   "execution_count": 20,
   "id": "02789400",
   "metadata": {
    "execution": {
     "iopub.execute_input": "2022-07-31T15:54:11.846031Z",
     "iopub.status.busy": "2022-07-31T15:54:11.845445Z",
     "iopub.status.idle": "2022-07-31T15:54:11.851066Z",
     "shell.execute_reply": "2022-07-31T15:54:11.850171Z"
    },
    "papermill": {
     "duration": 0.031092,
     "end_time": "2022-07-31T15:54:11.853078",
     "exception": false,
     "start_time": "2022-07-31T15:54:11.821986",
     "status": "completed"
    },
    "tags": []
   },
   "outputs": [],
   "source": [
    "train_data_generator = DataGenerator(X_train_data, y_train_data, augment=True) \n",
    "valid_data_generator = DataGenerator(X_val_data, y_val_data, augment=False)"
   ]
  },
  {
   "cell_type": "code",
   "execution_count": 21,
   "id": "bbcde0a1",
   "metadata": {
    "execution": {
     "iopub.execute_input": "2022-07-31T15:54:11.900485Z",
     "iopub.status.busy": "2022-07-31T15:54:11.900195Z",
     "iopub.status.idle": "2022-07-31T15:54:11.904631Z",
     "shell.execute_reply": "2022-07-31T15:54:11.903618Z"
    },
    "papermill": {
     "duration": 0.030955,
     "end_time": "2022-07-31T15:54:11.907092",
     "exception": false,
     "start_time": "2022-07-31T15:54:11.876137",
     "status": "completed"
    },
    "tags": []
   },
   "outputs": [],
   "source": [
    "# from keras import backend as K\n",
    "# import tensorflow as tf\n",
    "\n",
    "# def KerasFocalLoss(target, input):\n",
    "    \n",
    "#     gamma = 2.\n",
    "#     input = tf.cast(input, tf.float32)\n",
    "    \n",
    "#     max_val = K.clip(-input, 0, 1)\n",
    "#     loss = input - input * target + max_val + K.log(K.exp(-max_val) + K.exp(-input - max_val))\n",
    "#     invprobs = tf.log_sigmoid(-input * (target * 2.0 - 1.0))\n",
    "#     loss = K.exp(invprobs * gamma) * loss\n",
    "    \n",
    "#     return K.mean(K.sum(loss, axis=1))"
   ]
  },
  {
   "cell_type": "code",
   "execution_count": 22,
   "id": "b1342d7e",
   "metadata": {
    "execution": {
     "iopub.execute_input": "2022-07-31T15:54:11.952786Z",
     "iopub.status.busy": "2022-07-31T15:54:11.952501Z",
     "iopub.status.idle": "2022-07-31T15:54:11.964446Z",
     "shell.execute_reply": "2022-07-31T15:54:11.963515Z"
    },
    "id": "zigLUnyWcU7A",
    "outputId": "e92834c9-7d84-4ae2-b1b0-1d4b5a3f0133",
    "papermill": {
     "duration": 0.03741,
     "end_time": "2022-07-31T15:54:11.966741",
     "exception": false,
     "start_time": "2022-07-31T15:54:11.929331",
     "status": "completed"
    },
    "scrolled": true,
    "tags": []
   },
   "outputs": [],
   "source": [
    "def train(models,trainx = xtrain,trainy=y_train_lb,fold = True):\n",
    "    test_pred = np.zeros((test.shape[0],2))\n",
    "    model = models()\n",
    "    model.compile(optimizer = Adam(lr=0.0001),  loss='binary_crossentropy',metrics = ['accuracy'])\n",
    "\n",
    "    #early stopping to monitor the validation loss and avoid overfitting\n",
    "    early_stop = EarlyStopping(monitor='val_loss', mode='min', verbose=1, patience=10, restore_best_weights=True)\n",
    "\n",
    "    #reducing learning rate on plateau\n",
    "    rlrop = ReduceLROnPlateau(monitor='val_loss', mode='min', patience= 5, factor= 0.5, min_lr= 1e-6, verbose=1)\n",
    "    \n",
    "    if fold :\n",
    "        avg = []\n",
    "        for i ,(train_ind,test_ind) in enumerate(splits.split(trainx)):\n",
    "            print(f\"| Fold {i+1} |\".center(100,\"*\"))\n",
    "            x_train,x_test = trainx[train_ind],trainx[test_ind]\n",
    "\n",
    "            y_train,y_test  = trainy[train_ind],trainy[test_ind]\n",
    "    #         idg.fit((x_train,y_train))\n",
    "            model.fit(x_train,y_train,callbacks = [early_stop, rlrop],class_weight = class_weights,epochs = 25,validation_data = (x_test,y_test))\n",
    "    #         avg.append(model.predict(x_test))\n",
    "\n",
    "            test_pred += model.predict(test)/5\n",
    "    else:\n",
    "        model.fit(train_data_generator,callbacks = [early_stop, rlrop],\n",
    "                  steps_per_epoch = int( np.ceil(X_train_data.shape[0] / batch_size)),\n",
    "                  class_weight = class_weights,\n",
    "                  epochs = 25,\n",
    "                  validation_data = valid_data_generator,\n",
    "                validation_steps = int( np.ceil(X_val_data.shape[0] / batch_size)),\n",
    "                    )\n",
    "        test_pred = model.predict(test)\n",
    "    \n",
    "    return model,test_pred"
   ]
  },
  {
   "cell_type": "code",
   "execution_count": 23,
   "id": "58105c51",
   "metadata": {
    "execution": {
     "iopub.execute_input": "2022-07-31T15:54:12.013044Z",
     "iopub.status.busy": "2022-07-31T15:54:12.012261Z",
     "iopub.status.idle": "2022-07-31T15:54:12.017023Z",
     "shell.execute_reply": "2022-07-31T15:54:12.016003Z"
    },
    "papermill": {
     "duration": 0.030242,
     "end_time": "2022-07-31T15:54:12.019274",
     "exception": false,
     "start_time": "2022-07-31T15:54:11.989032",
     "status": "completed"
    },
    "scrolled": true,
    "tags": []
   },
   "outputs": [],
   "source": [
    "# vgg,vgg_pred = train(tl_vgg)"
   ]
  },
  {
   "cell_type": "code",
   "execution_count": 24,
   "id": "76173b48",
   "metadata": {
    "execution": {
     "iopub.execute_input": "2022-07-31T15:54:12.065635Z",
     "iopub.status.busy": "2022-07-31T15:54:12.065361Z",
     "iopub.status.idle": "2022-07-31T15:54:12.069183Z",
     "shell.execute_reply": "2022-07-31T15:54:12.068239Z"
    },
    "papermill": {
     "duration": 0.02968,
     "end_time": "2022-07-31T15:54:12.071336",
     "exception": false,
     "start_time": "2022-07-31T15:54:12.041656",
     "status": "completed"
    },
    "tags": []
   },
   "outputs": [],
   "source": [
    "# (vgg_pred)"
   ]
  },
  {
   "cell_type": "code",
   "execution_count": 25,
   "id": "4003d3b4",
   "metadata": {
    "execution": {
     "iopub.execute_input": "2022-07-31T15:54:12.116937Z",
     "iopub.status.busy": "2022-07-31T15:54:12.116655Z",
     "iopub.status.idle": "2022-07-31T15:54:12.120562Z",
     "shell.execute_reply": "2022-07-31T15:54:12.119599Z"
    },
    "papermill": {
     "duration": 0.029015,
     "end_time": "2022-07-31T15:54:12.122639",
     "exception": false,
     "start_time": "2022-07-31T15:54:12.093624",
     "status": "completed"
    },
    "scrolled": true,
    "tags": []
   },
   "outputs": [],
   "source": [
    "# IncepRes,incep_pred = train(tl_IncepRes)\n"
   ]
  },
  {
   "cell_type": "code",
   "execution_count": 26,
   "id": "5f3d6c38",
   "metadata": {
    "execution": {
     "iopub.execute_input": "2022-07-31T15:54:12.168390Z",
     "iopub.status.busy": "2022-07-31T15:54:12.168126Z",
     "iopub.status.idle": "2022-07-31T15:54:12.172064Z",
     "shell.execute_reply": "2022-07-31T15:54:12.171130Z"
    },
    "papermill": {
     "duration": 0.029017,
     "end_time": "2022-07-31T15:54:12.174164",
     "exception": false,
     "start_time": "2022-07-31T15:54:12.145147",
     "status": "completed"
    },
    "tags": []
   },
   "outputs": [],
   "source": [
    "# incep_pred"
   ]
  },
  {
   "cell_type": "code",
   "execution_count": 27,
   "id": "be425a25",
   "metadata": {
    "execution": {
     "iopub.execute_input": "2022-07-31T15:54:12.220920Z",
     "iopub.status.busy": "2022-07-31T15:54:12.220208Z",
     "iopub.status.idle": "2022-07-31T15:54:12.224362Z",
     "shell.execute_reply": "2022-07-31T15:54:12.223520Z"
    },
    "papermill": {
     "duration": 0.029469,
     "end_time": "2022-07-31T15:54:12.226396",
     "exception": false,
     "start_time": "2022-07-31T15:54:12.196927",
     "status": "completed"
    },
    "tags": []
   },
   "outputs": [],
   "source": [
    "# PRED = model.predict(test)\n",
    "# PRED"
   ]
  },
  {
   "cell_type": "code",
   "execution_count": 28,
   "id": "56a3ee6e",
   "metadata": {
    "execution": {
     "iopub.execute_input": "2022-07-31T15:54:12.272835Z",
     "iopub.status.busy": "2022-07-31T15:54:12.272008Z",
     "iopub.status.idle": "2022-07-31T15:54:12.276154Z",
     "shell.execute_reply": "2022-07-31T15:54:12.275309Z"
    },
    "papermill": {
     "duration": 0.029386,
     "end_time": "2022-07-31T15:54:12.278169",
     "exception": false,
     "start_time": "2022-07-31T15:54:12.248783",
     "status": "completed"
    },
    "tags": []
   },
   "outputs": [],
   "source": [
    "# y_train_pred = model.predict(xtrain)"
   ]
  },
  {
   "cell_type": "code",
   "execution_count": 29,
   "id": "62c4cd5f",
   "metadata": {
    "execution": {
     "iopub.execute_input": "2022-07-31T15:54:12.324148Z",
     "iopub.status.busy": "2022-07-31T15:54:12.323415Z",
     "iopub.status.idle": "2022-07-31T15:54:48.588420Z",
     "shell.execute_reply": "2022-07-31T15:54:48.587384Z"
    },
    "papermill": {
     "duration": 36.290675,
     "end_time": "2022-07-31T15:54:48.591031",
     "exception": false,
     "start_time": "2022-07-31T15:54:12.300356",
     "status": "completed"
    },
    "tags": []
   },
   "outputs": [
    {
     "name": "stderr",
     "output_type": "stream",
     "text": [
      "2022-07-31 15:54:12.441747: I tensorflow/stream_executor/cuda/cuda_gpu_executor.cc:937] successful NUMA node read from SysFS had negative value (-1), but there must be at least one NUMA node, so returning NUMA node zero\n",
      "2022-07-31 15:54:12.595531: I tensorflow/stream_executor/cuda/cuda_gpu_executor.cc:937] successful NUMA node read from SysFS had negative value (-1), but there must be at least one NUMA node, so returning NUMA node zero\n",
      "2022-07-31 15:54:12.596306: I tensorflow/stream_executor/cuda/cuda_gpu_executor.cc:937] successful NUMA node read from SysFS had negative value (-1), but there must be at least one NUMA node, so returning NUMA node zero\n",
      "2022-07-31 15:54:12.597412: I tensorflow/core/platform/cpu_feature_guard.cc:142] This TensorFlow binary is optimized with oneAPI Deep Neural Network Library (oneDNN) to use the following CPU instructions in performance-critical operations:  AVX2 AVX512F FMA\n",
      "To enable them in other operations, rebuild TensorFlow with the appropriate compiler flags.\n",
      "2022-07-31 15:54:12.597738: I tensorflow/stream_executor/cuda/cuda_gpu_executor.cc:937] successful NUMA node read from SysFS had negative value (-1), but there must be at least one NUMA node, so returning NUMA node zero\n",
      "2022-07-31 15:54:12.598426: I tensorflow/stream_executor/cuda/cuda_gpu_executor.cc:937] successful NUMA node read from SysFS had negative value (-1), but there must be at least one NUMA node, so returning NUMA node zero\n",
      "2022-07-31 15:54:12.599149: I tensorflow/stream_executor/cuda/cuda_gpu_executor.cc:937] successful NUMA node read from SysFS had negative value (-1), but there must be at least one NUMA node, so returning NUMA node zero\n",
      "2022-07-31 15:54:14.783122: I tensorflow/stream_executor/cuda/cuda_gpu_executor.cc:937] successful NUMA node read from SysFS had negative value (-1), but there must be at least one NUMA node, so returning NUMA node zero\n",
      "2022-07-31 15:54:14.784014: I tensorflow/stream_executor/cuda/cuda_gpu_executor.cc:937] successful NUMA node read from SysFS had negative value (-1), but there must be at least one NUMA node, so returning NUMA node zero\n",
      "2022-07-31 15:54:14.784697: I tensorflow/stream_executor/cuda/cuda_gpu_executor.cc:937] successful NUMA node read from SysFS had negative value (-1), but there must be at least one NUMA node, so returning NUMA node zero\n",
      "2022-07-31 15:54:14.785303: I tensorflow/core/common_runtime/gpu/gpu_device.cc:1510] Created device /job:localhost/replica:0/task:0/device:GPU:0 with 15403 MB memory:  -> device: 0, name: Tesla P100-PCIE-16GB, pci bus id: 0000:00:04.0, compute capability: 6.0\n"
     ]
    },
    {
     "name": "stdout",
     "output_type": "stream",
     "text": [
      "Model: \"sequential\"\n",
      "_________________________________________________________________\n",
      "Layer (type)                 Output Shape              Param #   \n",
      "=================================================================\n",
      "efficientnetb0 (Functional)  (None, 7, 7, 1280)        4049571   \n",
      "_________________________________________________________________\n",
      "global_average_pooling2d (Gl (None, 1280)              0         \n",
      "_________________________________________________________________\n",
      "dropout (Dropout)            (None, 1280)              0         \n",
      "_________________________________________________________________\n",
      "dense (Dense)                (None, 2)                 2562      \n",
      "=================================================================\n",
      "Total params: 4,052,133\n",
      "Trainable params: 4,010,110\n",
      "Non-trainable params: 42,023\n",
      "_________________________________________________________________\n"
     ]
    },
    {
     "name": "stderr",
     "output_type": "stream",
     "text": [
      "/opt/conda/lib/python3.7/site-packages/keras/optimizer_v2/optimizer_v2.py:356: UserWarning: The `lr` argument is deprecated, use `learning_rate` instead.\n",
      "  \"The `lr` argument is deprecated, use `learning_rate` instead.\")\n",
      "2022-07-31 15:54:18.854403: I tensorflow/compiler/mlir/mlir_graph_optimization_pass.cc:185] None of the MLIR Optimization Passes are enabled (registered 2)\n"
     ]
    },
    {
     "name": "stdout",
     "output_type": "stream",
     "text": [
      "Epoch 1/25\n"
     ]
    },
    {
     "name": "stderr",
     "output_type": "stream",
     "text": [
      "2022-07-31 15:54:28.712865: I tensorflow/stream_executor/cuda/cuda_dnn.cc:369] Loaded cuDNN version 8005\n"
     ]
    },
    {
     "name": "stdout",
     "output_type": "stream",
     "text": [
      "10/10 [==============================] - 23s 702ms/step - loss: 0.4143 - accuracy: 0.5295 - val_loss: 0.7221 - val_accuracy: 0.2734\n"
     ]
    }
   ],
   "source": [
    "model_efn,efn_pred = train(tl_efn,fold = False)"
   ]
  },
  {
   "cell_type": "code",
   "execution_count": 30,
   "id": "4a7f9af8",
   "metadata": {
    "execution": {
     "iopub.execute_input": "2022-07-31T15:54:48.640976Z",
     "iopub.status.busy": "2022-07-31T15:54:48.640631Z",
     "iopub.status.idle": "2022-07-31T15:54:48.646624Z",
     "shell.execute_reply": "2022-07-31T15:54:48.645698Z"
    },
    "papermill": {
     "duration": 0.033806,
     "end_time": "2022-07-31T15:54:48.649616",
     "exception": false,
     "start_time": "2022-07-31T15:54:48.615810",
     "status": "completed"
    },
    "tags": []
   },
   "outputs": [
    {
     "name": "stdout",
     "output_type": "stream",
     "text": [
      "[0.6890395  0.70542765 0.7319453  0.7183242 ]\n",
      "0.442307\n"
     ]
    }
   ],
   "source": [
    "print(efn_pred[:,0])\n",
    "print(efn_pred[:,1][0])"
   ]
  },
  {
   "cell_type": "code",
   "execution_count": 31,
   "id": "44d0f4d6",
   "metadata": {
    "execution": {
     "iopub.execute_input": "2022-07-31T15:54:48.701966Z",
     "iopub.status.busy": "2022-07-31T15:54:48.701624Z",
     "iopub.status.idle": "2022-07-31T15:54:48.705992Z",
     "shell.execute_reply": "2022-07-31T15:54:48.705014Z"
    },
    "papermill": {
     "duration": 0.031063,
     "end_time": "2022-07-31T15:54:48.708093",
     "exception": false,
     "start_time": "2022-07-31T15:54:48.677030",
     "status": "completed"
    },
    "tags": []
   },
   "outputs": [],
   "source": [
    "from sklearn.metrics import log_loss\n",
    "# log_loss(ytrain.astype(int),y_train_pred)"
   ]
  },
  {
   "cell_type": "code",
   "execution_count": 32,
   "id": "644baf5c",
   "metadata": {
    "execution": {
     "iopub.execute_input": "2022-07-31T15:54:48.756646Z",
     "iopub.status.busy": "2022-07-31T15:54:48.756379Z",
     "iopub.status.idle": "2022-07-31T15:54:48.760571Z",
     "shell.execute_reply": "2022-07-31T15:54:48.759605Z"
    },
    "papermill": {
     "duration": 0.030869,
     "end_time": "2022-07-31T15:54:48.762692",
     "exception": false,
     "start_time": "2022-07-31T15:54:48.731823",
     "status": "completed"
    },
    "tags": []
   },
   "outputs": [],
   "source": [
    "from sklearn.metrics import accuracy_score"
   ]
  },
  {
   "cell_type": "code",
   "execution_count": 33,
   "id": "e864a826",
   "metadata": {
    "execution": {
     "iopub.execute_input": "2022-07-31T15:54:48.811460Z",
     "iopub.status.busy": "2022-07-31T15:54:48.811169Z",
     "iopub.status.idle": "2022-07-31T15:54:48.815368Z",
     "shell.execute_reply": "2022-07-31T15:54:48.814189Z"
    },
    "papermill": {
     "duration": 0.031485,
     "end_time": "2022-07-31T15:54:48.817963",
     "exception": false,
     "start_time": "2022-07-31T15:54:48.786478",
     "status": "completed"
    },
    "tags": []
   },
   "outputs": [],
   "source": [
    "# IncepRes.save(\"(stripAi)IncepRes(150,150,3).h5\")"
   ]
  },
  {
   "cell_type": "code",
   "execution_count": 34,
   "id": "3919cb16",
   "metadata": {
    "execution": {
     "iopub.execute_input": "2022-07-31T15:54:48.868508Z",
     "iopub.status.busy": "2022-07-31T15:54:48.867085Z",
     "iopub.status.idle": "2022-07-31T15:54:48.872295Z",
     "shell.execute_reply": "2022-07-31T15:54:48.871398Z"
    },
    "papermill": {
     "duration": 0.032244,
     "end_time": "2022-07-31T15:54:48.874432",
     "exception": false,
     "start_time": "2022-07-31T15:54:48.842188",
     "status": "completed"
    },
    "tags": []
   },
   "outputs": [],
   "source": [
    "# PRED = IncepRes.predict(test)\n",
    "# PRED"
   ]
  },
  {
   "cell_type": "code",
   "execution_count": 35,
   "id": "9a641402",
   "metadata": {
    "execution": {
     "iopub.execute_input": "2022-07-31T15:54:48.923406Z",
     "iopub.status.busy": "2022-07-31T15:54:48.922570Z",
     "iopub.status.idle": "2022-07-31T15:54:48.930338Z",
     "shell.execute_reply": "2022-07-31T15:54:48.929532Z"
    },
    "id": "_o-JtOyplsDu",
    "papermill": {
     "duration": 0.034435,
     "end_time": "2022-07-31T15:54:48.932462",
     "exception": false,
     "start_time": "2022-07-31T15:54:48.898027",
     "status": "completed"
    },
    "tags": []
   },
   "outputs": [],
   "source": [
    "def Predict(pred1,pred2 = 0):\n",
    "    from IPython.display import display\n",
    "#     model1 = models[0]\n",
    "#     model2 = models[1]\n",
    "    \n",
    "#     pred1 = model1.predict(test) \n",
    "#     pred2 = model2.predict(test) \n",
    "#     print(np.array([pred1,pred2]))\n",
    "    pred =pred1#( pred1*0.5) +(pred2*0.5)\n",
    "    print(pred)\n",
    "    prob = pd.DataFrame({\"CE\" : pred[:,0], \"LAA\" : pred[:,1], \"id\" : pat_test}).groupby(\"id\").mean()\n",
    "    submission = pd.read_csv(\"../input/mayo-clinic-strip-ai/sample_submission.csv\")\n",
    "    submission.CE = prob.CE.to_list()\n",
    "    submission.LAA = prob.LAA.to_list()\n",
    "    submission.patient_id = prob.index\n",
    "    submission.to_csv(\"submission.csv\", index = False)\n",
    "    display(submission)"
   ]
  },
  {
   "cell_type": "code",
   "execution_count": 36,
   "id": "44bf048a",
   "metadata": {
    "execution": {
     "iopub.execute_input": "2022-07-31T15:54:48.981085Z",
     "iopub.status.busy": "2022-07-31T15:54:48.980559Z",
     "iopub.status.idle": "2022-07-31T15:54:49.009103Z",
     "shell.execute_reply": "2022-07-31T15:54:49.008156Z"
    },
    "papermill": {
     "duration": 0.055156,
     "end_time": "2022-07-31T15:54:49.011207",
     "exception": false,
     "start_time": "2022-07-31T15:54:48.956051",
     "status": "completed"
    },
    "tags": []
   },
   "outputs": [
    {
     "name": "stdout",
     "output_type": "stream",
     "text": [
      "[[0.6890395  0.442307  ]\n",
      " [0.70542765 0.5803662 ]\n",
      " [0.7319453  0.6975927 ]\n",
      " [0.7183242  0.55469126]]\n"
     ]
    },
    {
     "data": {
      "text/html": [
       "<div>\n",
       "<style scoped>\n",
       "    .dataframe tbody tr th:only-of-type {\n",
       "        vertical-align: middle;\n",
       "    }\n",
       "\n",
       "    .dataframe tbody tr th {\n",
       "        vertical-align: top;\n",
       "    }\n",
       "\n",
       "    .dataframe thead th {\n",
       "        text-align: right;\n",
       "    }\n",
       "</style>\n",
       "<table border=\"1\" class=\"dataframe\">\n",
       "  <thead>\n",
       "    <tr style=\"text-align: right;\">\n",
       "      <th></th>\n",
       "      <th>patient_id</th>\n",
       "      <th>CE</th>\n",
       "      <th>LAA</th>\n",
       "    </tr>\n",
       "  </thead>\n",
       "  <tbody>\n",
       "    <tr>\n",
       "      <th>0</th>\n",
       "      <td>006388</td>\n",
       "      <td>0.689040</td>\n",
       "      <td>0.442307</td>\n",
       "    </tr>\n",
       "    <tr>\n",
       "      <th>1</th>\n",
       "      <td>008e5c</td>\n",
       "      <td>0.705428</td>\n",
       "      <td>0.580366</td>\n",
       "    </tr>\n",
       "    <tr>\n",
       "      <th>2</th>\n",
       "      <td>00c058</td>\n",
       "      <td>0.731945</td>\n",
       "      <td>0.697593</td>\n",
       "    </tr>\n",
       "    <tr>\n",
       "      <th>3</th>\n",
       "      <td>01adc5</td>\n",
       "      <td>0.718324</td>\n",
       "      <td>0.554691</td>\n",
       "    </tr>\n",
       "  </tbody>\n",
       "</table>\n",
       "</div>"
      ],
      "text/plain": [
       "  patient_id        CE       LAA\n",
       "0     006388  0.689040  0.442307\n",
       "1     008e5c  0.705428  0.580366\n",
       "2     00c058  0.731945  0.697593\n",
       "3     01adc5  0.718324  0.554691"
      ]
     },
     "metadata": {},
     "output_type": "display_data"
    }
   ],
   "source": [
    "Predict(efn_pred)"
   ]
  },
  {
   "cell_type": "code",
   "execution_count": 37,
   "id": "e4c0f9ef",
   "metadata": {
    "execution": {
     "iopub.execute_input": "2022-07-31T15:54:49.060881Z",
     "iopub.status.busy": "2022-07-31T15:54:49.060151Z",
     "iopub.status.idle": "2022-07-31T15:54:49.064447Z",
     "shell.execute_reply": "2022-07-31T15:54:49.063520Z"
    },
    "papermill": {
     "duration": 0.031629,
     "end_time": "2022-07-31T15:54:49.066763",
     "exception": false,
     "start_time": "2022-07-31T15:54:49.035134",
     "status": "completed"
    },
    "tags": []
   },
   "outputs": [],
   "source": [
    "# pd.read_csv(\"submission.csv\")"
   ]
  },
  {
   "cell_type": "code",
   "execution_count": null,
   "id": "53615c49",
   "metadata": {
    "papermill": {
     "duration": 0.023523,
     "end_time": "2022-07-31T15:54:49.113934",
     "exception": false,
     "start_time": "2022-07-31T15:54:49.090411",
     "status": "completed"
    },
    "tags": []
   },
   "outputs": [],
   "source": []
  }
 ],
 "metadata": {
  "kernelspec": {
   "display_name": "Python 3",
   "language": "python",
   "name": "python3"
  },
  "language_info": {
   "codemirror_mode": {
    "name": "ipython",
    "version": 3
   },
   "file_extension": ".py",
   "mimetype": "text/x-python",
   "name": "python",
   "nbconvert_exporter": "python",
   "pygments_lexer": "ipython3",
   "version": "3.7.12"
  },
  "papermill": {
   "default_parameters": {},
   "duration": 108.567063,
   "end_time": "2022-07-31T15:54:52.757246",
   "environment_variables": {},
   "exception": null,
   "input_path": "__notebook__.ipynb",
   "output_path": "__notebook__.ipynb",
   "parameters": {},
   "start_time": "2022-07-31T15:53:04.190183",
   "version": "2.3.4"
  }
 },
 "nbformat": 4,
 "nbformat_minor": 5
}
